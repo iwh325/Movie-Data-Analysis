{
 "cells": [
  {
   "cell_type": "markdown",
   "metadata": {},
   "source": [
    "\n",
    "# Project: Movie Data Analysis\n",
    "\n",
    "## Table of Contents\n",
    "<ul>\n",
    "<li><a href=\"#intro\">Introduction</a></li>\n",
    "<li><a href=\"#wrangling\">Data Wrangling</a></li>\n",
    "<li><a href=\"#eda\">Exploratory Data Analysis</a></li>\n",
    "<li><a href=\"#conclusions\">Conclusions</a></li>\n",
    "</ul>\n",
    "\n",
    "<a id='intro'></a>\n",
    "## Introduction\n",
    "\n",
    "> **Tip**: In this section of the report, provide a brief introduction to the dataset you've selected for analysis. At the end of this section, describe the questions that you plan on exploring over the course of the report. Try to build your report around the analysis of at least one dependent variable and three independent variables. If you're not sure what questions to ask, then make sure you familiarize yourself with the dataset, its variables and the dataset context for ideas of what to explore.\n",
    "\n",
    ">Since I'm a huge movie enthusiest, I chose the TMDb movie data set for my project. This data set contains information about 10,000 movies collected from The Movie Database (TMDb), including user ratings and revenue.\n",
    "\n",
    "***Questions***\n",
    " - What are movie revenues from year to year?\n",
    " - How many movies are released from year to year?\n",
    " - What is the percentage growth rate for movies released from 1960 to 2015?\n",
    " - What are the top producing movies?\n",
    " - Which genres are most popular from year to year? \n",
    " - What kinds of properties are associated with movies that have high revenues?\n",
    " - Which directors have produced the most movies from year to year?\n",
    " - Which directors have been the most successful in regards to revenue?\n",
    " - Are movies with larger budgets more successful?\n",
    "  \n",
    "***Note***\n",
    " - Certain columns, like ‘cast’ and ‘genres’, contain multiple values separated by pipe (|) characters.\n",
    " - There are some odd characters in the ‘cast’ column. Don’t worry about cleaning them. You can leave them as is.\n",
    " - The final two columns ending with “_adj” show the budget and revenue of the associated movie in terms of 2010 dollars, accounting for inflation over time."
   ]
  },
  {
   "cell_type": "code",
   "execution_count": 1,
   "metadata": {},
   "outputs": [],
   "source": [
    "# Import statements for all of the packages that I will be using\n",
    "\n",
    "# Remember to include a 'magic word' so that your visualizations are plotted\n",
    "#   inline with the notebook. See this page for more:\n",
    "#   http://ipython.readthedocs.io/en/stable/interactive/magics.html\n",
    "import pandas as pd\n",
    "import numpy as np\n",
    "import matplotlib.pyplot as plt\n",
    "% matplotlib inline\n",
    "import seaborn as sns\n",
    "from datetime import datetime"
   ]
  },
  {
   "cell_type": "markdown",
   "metadata": {},
   "source": [
    "<a id='wrangling'></a>\n",
    "## Data Wrangling\n",
    "\n",
    "> **Tip**: In this section of the report, you will load in the data, check for cleanliness, and then trim and clean your dataset for analysis. Make sure that you document your steps carefully and justify your cleaning decisions.\n",
    "\n",
    "### General Properties"
   ]
  },
  {
   "cell_type": "code",
   "execution_count": 2,
   "metadata": {},
   "outputs": [
    {
     "data": {
      "text/html": [
       "<div>\n",
       "<style>\n",
       "    .dataframe thead tr:only-child th {\n",
       "        text-align: right;\n",
       "    }\n",
       "\n",
       "    .dataframe thead th {\n",
       "        text-align: left;\n",
       "    }\n",
       "\n",
       "    .dataframe tbody tr th {\n",
       "        vertical-align: top;\n",
       "    }\n",
       "</style>\n",
       "<table border=\"1\" class=\"dataframe\">\n",
       "  <thead>\n",
       "    <tr style=\"text-align: right;\">\n",
       "      <th></th>\n",
       "      <th>id</th>\n",
       "      <th>imdb_id</th>\n",
       "      <th>popularity</th>\n",
       "      <th>budget</th>\n",
       "      <th>revenue</th>\n",
       "      <th>original_title</th>\n",
       "      <th>cast</th>\n",
       "      <th>homepage</th>\n",
       "      <th>director</th>\n",
       "      <th>tagline</th>\n",
       "      <th>...</th>\n",
       "      <th>overview</th>\n",
       "      <th>runtime</th>\n",
       "      <th>genres</th>\n",
       "      <th>production_companies</th>\n",
       "      <th>release_date</th>\n",
       "      <th>vote_count</th>\n",
       "      <th>vote_average</th>\n",
       "      <th>release_year</th>\n",
       "      <th>budget_adj</th>\n",
       "      <th>revenue_adj</th>\n",
       "    </tr>\n",
       "  </thead>\n",
       "  <tbody>\n",
       "    <tr>\n",
       "      <th>0</th>\n",
       "      <td>135397</td>\n",
       "      <td>tt0369610</td>\n",
       "      <td>32.985763</td>\n",
       "      <td>150000000</td>\n",
       "      <td>1513528810</td>\n",
       "      <td>Jurassic World</td>\n",
       "      <td>Chris Pratt|Bryce Dallas Howard|Irrfan Khan|Vi...</td>\n",
       "      <td>http://www.jurassicworld.com/</td>\n",
       "      <td>Colin Trevorrow</td>\n",
       "      <td>The park is open.</td>\n",
       "      <td>...</td>\n",
       "      <td>Twenty-two years after the events of Jurassic ...</td>\n",
       "      <td>124</td>\n",
       "      <td>Action|Adventure|Science Fiction|Thriller</td>\n",
       "      <td>Universal Studios|Amblin Entertainment|Legenda...</td>\n",
       "      <td>6/9/15</td>\n",
       "      <td>5562</td>\n",
       "      <td>6.5</td>\n",
       "      <td>2015</td>\n",
       "      <td>1.379999e+08</td>\n",
       "      <td>1.392446e+09</td>\n",
       "    </tr>\n",
       "  </tbody>\n",
       "</table>\n",
       "<p>1 rows × 21 columns</p>\n",
       "</div>"
      ],
      "text/plain": [
       "       id    imdb_id  popularity     budget     revenue  original_title  \\\n",
       "0  135397  tt0369610   32.985763  150000000  1513528810  Jurassic World   \n",
       "\n",
       "                                                cast  \\\n",
       "0  Chris Pratt|Bryce Dallas Howard|Irrfan Khan|Vi...   \n",
       "\n",
       "                        homepage         director            tagline  \\\n",
       "0  http://www.jurassicworld.com/  Colin Trevorrow  The park is open.   \n",
       "\n",
       "       ...                                                overview runtime  \\\n",
       "0      ...       Twenty-two years after the events of Jurassic ...     124   \n",
       "\n",
       "                                      genres  \\\n",
       "0  Action|Adventure|Science Fiction|Thriller   \n",
       "\n",
       "                                production_companies release_date vote_count  \\\n",
       "0  Universal Studios|Amblin Entertainment|Legenda...       6/9/15       5562   \n",
       "\n",
       "   vote_average  release_year    budget_adj   revenue_adj  \n",
       "0           6.5          2015  1.379999e+08  1.392446e+09  \n",
       "\n",
       "[1 rows x 21 columns]"
      ]
     },
     "execution_count": 2,
     "metadata": {},
     "output_type": "execute_result"
    }
   ],
   "source": [
    "# Loading the csv movie data file into data frame. \n",
    "df = pd.read_csv('tmdb-movies.csv')\n",
    "\n",
    "# Display first five rows of data\n",
    "df.head(1)"
   ]
  },
  {
   "cell_type": "markdown",
   "metadata": {},
   "source": [
    "### Data Cleaning - Overview\n",
    "\n",
    ">Review data set for the following house cleanning items:\n",
    "\n",
    "<ul>\n",
    "<li><a href=\"#step_1\">View data set dimensions</a></li>\n",
    "<li><a href=\"#step_2\">Determine which columns will be included in my movie review analysis and drop any unnecessary columns</a></li>\n",
    "<li><a href=\"#step_3\">Determine if there are any duplicates</a></li>\n",
    "<li><a href=\"#step_4\">Determine missing data (zero and null values)</a></li>\n",
    "<li><a href=\"#step_5\">Review data types and convert to correct formats</a></li>\n",
    "<li><a href=\"#step_6\">Remove pipe (|) character from columns that contain multiple characters</a></li>\n",
    "<li><a href=\"#step_7\">Create a function to retrieve the maxium record from a column</a></li>\n",
    "<li><a href=\"#step_8\">Create a function to retrieve the top 5 records with the highest values from a column</a></li>    \n",
    "</ul>"
   ]
  },
  {
   "cell_type": "markdown",
   "metadata": {},
   "source": [
    "<a id='step_1'></a>\n",
    "### <font color=blue>Step 1. View data set dimensions</font>\n",
    ">View dimensions in dataset to determine number of columns and rows. \n",
    "\n",
    ">The original data set contains 10,866 rows and 21 columns."
   ]
  },
  {
   "cell_type": "code",
   "execution_count": 3,
   "metadata": {},
   "outputs": [
    {
     "data": {
      "text/plain": [
       "(10866, 21)"
      ]
     },
     "execution_count": 3,
     "metadata": {},
     "output_type": "execute_result"
    }
   ],
   "source": [
    "# View dimensions in dataset to determine number of columns and rows \n",
    "df.shape"
   ]
  },
  {
   "cell_type": "markdown",
   "metadata": {},
   "source": [
    "<a id='step_2'></a>\n",
    "### <font color=blue>Step 2. Determine which columns will be included in the data analysis and drop any unnecessary columns</font>\n",
    ">The following columns were dropped since they will not be used in my analysis:\n",
    " - imdb_id, homepage, tagline, overview, keywords, vote_count, vote_average, budget_adj, revenue_adj, production_companies"
   ]
  },
  {
   "cell_type": "code",
   "execution_count": 4,
   "metadata": {},
   "outputs": [],
   "source": [
    "# Drop columns not used in the dataset\n",
    "df.drop(['imdb_id','homepage', 'tagline', 'overview', 'keywords', 'vote_count', 'vote_average', 'budget_adj', 'revenue_adj', 'production_companies'], axis=1, inplace = True)"
   ]
  },
  {
   "cell_type": "code",
   "execution_count": 5,
   "metadata": {},
   "outputs": [
    {
     "name": "stdout",
     "output_type": "stream",
     "text": [
      "<class 'pandas.core.frame.DataFrame'>\n",
      "RangeIndex: 10866 entries, 0 to 10865\n",
      "Data columns (total 11 columns):\n",
      "id                10866 non-null int64\n",
      "popularity        10866 non-null float64\n",
      "budget            10866 non-null int64\n",
      "revenue           10866 non-null int64\n",
      "original_title    10866 non-null object\n",
      "cast              10790 non-null object\n",
      "director          10822 non-null object\n",
      "runtime           10866 non-null int64\n",
      "genres            10843 non-null object\n",
      "release_date      10866 non-null object\n",
      "release_year      10866 non-null int64\n",
      "dtypes: float64(1), int64(5), object(5)\n",
      "memory usage: 933.9+ KB\n"
     ]
    }
   ],
   "source": [
    "# Confirm columns were removed\n",
    "df.info()"
   ]
  },
  {
   "cell_type": "markdown",
   "metadata": {},
   "source": [
    "<a id='step_3'></a>\n",
    "### <font color=blue>Step 3. Determine if there are any duplicates in the data set</font>\n",
    ">Check for any duplicates and remove them from the dataset.\n",
    "\n",
    ">Duplicate review revealed there was only one duplicate in the data set that needs to be removed."
   ]
  },
  {
   "cell_type": "code",
   "execution_count": 6,
   "metadata": {},
   "outputs": [
    {
     "data": {
      "text/plain": [
       "1"
      ]
     },
     "execution_count": 6,
     "metadata": {},
     "output_type": "execute_result"
    }
   ],
   "source": [
    "# Check for duplicate rows in data set\n",
    "sum(df.duplicated())"
   ]
  },
  {
   "cell_type": "code",
   "execution_count": 7,
   "metadata": {},
   "outputs": [],
   "source": [
    "# Dropping duplicate in dataset and keeping first one\n",
    "df.drop_duplicates(keep = 'first', inplace=True)"
   ]
  },
  {
   "cell_type": "code",
   "execution_count": 8,
   "metadata": {},
   "outputs": [
    {
     "data": {
      "text/plain": [
       "0"
      ]
     },
     "execution_count": 8,
     "metadata": {},
     "output_type": "execute_result"
    }
   ],
   "source": [
    "# Confirm duplicate has been removed from dataset. Should be 0\n",
    "sum(df.duplicated())"
   ]
  },
  {
   "cell_type": "code",
   "execution_count": 9,
   "metadata": {},
   "outputs": [
    {
     "name": "stdout",
     "output_type": "stream",
     "text": [
      "<class 'pandas.core.frame.DataFrame'>\n",
      "Int64Index: 10865 entries, 0 to 10865\n",
      "Data columns (total 11 columns):\n",
      "id                10865 non-null int64\n",
      "popularity        10865 non-null float64\n",
      "budget            10865 non-null int64\n",
      "revenue           10865 non-null int64\n",
      "original_title    10865 non-null object\n",
      "cast              10789 non-null object\n",
      "director          10821 non-null object\n",
      "runtime           10865 non-null int64\n",
      "genres            10842 non-null object\n",
      "release_date      10865 non-null object\n",
      "release_year      10865 non-null int64\n",
      "dtypes: float64(1), int64(5), object(5)\n",
      "memory usage: 1018.6+ KB\n"
     ]
    }
   ],
   "source": [
    "# Confirm duplicate was removed by noting row count went from 10866 to 10865\n",
    "df.info()"
   ]
  },
  {
   "cell_type": "markdown",
   "metadata": {},
   "source": [
    "<a id='step_4'></a>\n",
    "### <font color=blue>Step 4. Determine missing data (zero and null values)</font>\n",
    "\n",
    "> First, lets determine which columns had missing data by running info(). \n"
   ]
  },
  {
   "cell_type": "code",
   "execution_count": 10,
   "metadata": {},
   "outputs": [
    {
     "name": "stdout",
     "output_type": "stream",
     "text": [
      "<class 'pandas.core.frame.DataFrame'>\n",
      "Int64Index: 10865 entries, 0 to 10865\n",
      "Data columns (total 11 columns):\n",
      "id                10865 non-null int64\n",
      "popularity        10865 non-null float64\n",
      "budget            10865 non-null int64\n",
      "revenue           10865 non-null int64\n",
      "original_title    10865 non-null object\n",
      "cast              10789 non-null object\n",
      "director          10821 non-null object\n",
      "runtime           10865 non-null int64\n",
      "genres            10842 non-null object\n",
      "release_date      10865 non-null object\n",
      "release_year      10865 non-null int64\n",
      "dtypes: float64(1), int64(5), object(5)\n",
      "memory usage: 1018.6+ KB\n"
     ]
    }
   ],
   "source": [
    "# Check which columns have missing values with info()\n",
    "df.info()"
   ]
  },
  {
   "cell_type": "markdown",
   "metadata": {},
   "source": [
    ">Per the above details, we can see that the following columns have missing data since their numbers are less than 10,865: \n",
    "- cast\n",
    "- director\n",
    "- genres\n",
    "\n",
    ">Next, lets display which rows have missing values to get an idea of what the missing data looks like. We can see there are zero and NaN values present in the data set.\n"
   ]
  },
  {
   "cell_type": "code",
   "execution_count": 11,
   "metadata": {},
   "outputs": [
    {
     "data": {
      "text/html": [
       "<div>\n",
       "<style>\n",
       "    .dataframe thead tr:only-child th {\n",
       "        text-align: right;\n",
       "    }\n",
       "\n",
       "    .dataframe thead th {\n",
       "        text-align: left;\n",
       "    }\n",
       "\n",
       "    .dataframe tbody tr th {\n",
       "        vertical-align: top;\n",
       "    }\n",
       "</style>\n",
       "<table border=\"1\" class=\"dataframe\">\n",
       "  <thead>\n",
       "    <tr style=\"text-align: right;\">\n",
       "      <th></th>\n",
       "      <th>id</th>\n",
       "      <th>popularity</th>\n",
       "      <th>budget</th>\n",
       "      <th>revenue</th>\n",
       "      <th>original_title</th>\n",
       "      <th>cast</th>\n",
       "      <th>director</th>\n",
       "      <th>runtime</th>\n",
       "      <th>genres</th>\n",
       "      <th>release_date</th>\n",
       "      <th>release_year</th>\n",
       "    </tr>\n",
       "  </thead>\n",
       "  <tbody>\n",
       "    <tr>\n",
       "      <th>371</th>\n",
       "      <td>345637</td>\n",
       "      <td>0.422901</td>\n",
       "      <td>0</td>\n",
       "      <td>0</td>\n",
       "      <td>Sanjay's Super Team</td>\n",
       "      <td>NaN</td>\n",
       "      <td>Sanjay Patel</td>\n",
       "      <td>7</td>\n",
       "      <td>Animation</td>\n",
       "      <td>11/25/15</td>\n",
       "      <td>2015</td>\n",
       "    </tr>\n",
       "    <tr>\n",
       "      <th>424</th>\n",
       "      <td>363869</td>\n",
       "      <td>0.244648</td>\n",
       "      <td>0</td>\n",
       "      <td>0</td>\n",
       "      <td>Belli di papÃ</td>\n",
       "      <td>Diego Abatantuono|Matilde Gioli|Andrea Pisani|...</td>\n",
       "      <td>Guido Chiesa</td>\n",
       "      <td>100</td>\n",
       "      <td>NaN</td>\n",
       "      <td>10/29/15</td>\n",
       "      <td>2015</td>\n",
       "    </tr>\n",
       "  </tbody>\n",
       "</table>\n",
       "</div>"
      ],
      "text/plain": [
       "         id  popularity  budget  revenue       original_title  \\\n",
       "371  345637    0.422901       0        0  Sanjay's Super Team   \n",
       "424  363869    0.244648       0        0       Belli di papÃ    \n",
       "\n",
       "                                                  cast      director  runtime  \\\n",
       "371                                                NaN  Sanjay Patel        7   \n",
       "424  Diego Abatantuono|Matilde Gioli|Andrea Pisani|...  Guido Chiesa      100   \n",
       "\n",
       "        genres release_date  release_year  \n",
       "371  Animation     11/25/15          2015  \n",
       "424        NaN     10/29/15          2015  "
      ]
     },
     "execution_count": 11,
     "metadata": {},
     "output_type": "execute_result"
    }
   ],
   "source": [
    "# Display rows with missing data\n",
    "df[df.isnull().any(axis=1)].head(2)"
   ]
  },
  {
   "cell_type": "markdown",
   "metadata": {},
   "source": [
    ">Let's break down the missing value counts to determine how many consist of zeros and/or NaN values.\n",
    "\n",
    ">First, let's count the number of missing values equal to zero."
   ]
  },
  {
   "cell_type": "code",
   "execution_count": 12,
   "metadata": {},
   "outputs": [
    {
     "data": {
      "text/plain": [
       "id                   0\n",
       "popularity           0\n",
       "budget            5696\n",
       "revenue           6016\n",
       "original_title       0\n",
       "cast                 0\n",
       "director             0\n",
       "runtime             31\n",
       "genres               0\n",
       "release_date         0\n",
       "release_year         0\n",
       "dtype: int64"
      ]
     },
     "execution_count": 12,
     "metadata": {},
     "output_type": "execute_result"
    }
   ],
   "source": [
    "# Count the number of missing values in each column that has a minimum value of zero\n",
    "(df == 0).sum()"
   ]
  },
  {
   "cell_type": "markdown",
   "metadata": {},
   "source": [
    ">Based on my review, the following columns contained zero values:\n",
    " - budget: 5,696\n",
    " - revenue: 6,016\n",
    " - runtime: 31\n",
    " \n",
    ">We can see above that runtime has a lot fewer zeros compared to the budget and revenue columns, which both\n",
    "show a lot more zeros over half of the rows in the dataset. Since runtime's count of 31 zeros makes up a small percentage of the overall data set, zeros will be refilled with the runtime mean. \n",
    "\n",
    ">For the budget and revenue columns, we will convert the zero values to NaNs.  By converting to NaN, it will be easier to distinguish and remove the zero values."
   ]
  },
  {
   "cell_type": "code",
   "execution_count": 13,
   "metadata": {},
   "outputs": [],
   "source": [
    "# Imput runtime by refilling zeros with runtime's mean\n",
    "# Use pandas function replace to fill zero values with the mean\n",
    "df['runtime'] = df['runtime'].replace(0, np.mean)"
   ]
  },
  {
   "cell_type": "code",
   "execution_count": 14,
   "metadata": {},
   "outputs": [
    {
     "data": {
      "text/html": [
       "<div>\n",
       "<style>\n",
       "    .dataframe thead tr:only-child th {\n",
       "        text-align: right;\n",
       "    }\n",
       "\n",
       "    .dataframe thead th {\n",
       "        text-align: left;\n",
       "    }\n",
       "\n",
       "    .dataframe tbody tr th {\n",
       "        vertical-align: top;\n",
       "    }\n",
       "</style>\n",
       "<table border=\"1\" class=\"dataframe\">\n",
       "  <thead>\n",
       "    <tr style=\"text-align: right;\">\n",
       "      <th></th>\n",
       "      <th>id</th>\n",
       "      <th>popularity</th>\n",
       "      <th>budget</th>\n",
       "      <th>revenue</th>\n",
       "      <th>original_title</th>\n",
       "      <th>cast</th>\n",
       "      <th>director</th>\n",
       "      <th>runtime</th>\n",
       "      <th>genres</th>\n",
       "      <th>release_date</th>\n",
       "      <th>release_year</th>\n",
       "    </tr>\n",
       "  </thead>\n",
       "  <tbody>\n",
       "  </tbody>\n",
       "</table>\n",
       "</div>"
      ],
      "text/plain": [
       "Empty DataFrame\n",
       "Columns: [id, popularity, budget, revenue, original_title, cast, director, runtime, genres, release_date, release_year]\n",
       "Index: []"
      ]
     },
     "execution_count": 14,
     "metadata": {},
     "output_type": "execute_result"
    }
   ],
   "source": [
    "# Confirm zeros have been replaced with mean\n",
    "df.query('runtime == 0')"
   ]
  },
  {
   "cell_type": "code",
   "execution_count": 15,
   "metadata": {},
   "outputs": [
    {
     "data": {
      "text/plain": [
       "id                   0\n",
       "popularity           0\n",
       "budget            5696\n",
       "revenue           6016\n",
       "original_title       0\n",
       "cast                76\n",
       "director            44\n",
       "runtime              0\n",
       "genres              23\n",
       "release_date         0\n",
       "release_year         0\n",
       "dtype: int64"
      ]
     },
     "execution_count": 15,
     "metadata": {},
     "output_type": "execute_result"
    }
   ],
   "source": [
    "# Mark zero values in columns budget and revenue as NaN.  By converting to NaN, it will be easier to distinguish\n",
    "# and remove the zero values.\n",
    "df['budget'] = df['budget'].replace(0, np.NaN)\n",
    "df['revenue'] = df['revenue'].replace(0, np.NaN)\n",
    "\n",
    "# Count number of NaN values in each column. Budget and revenue should show up as NaN values now.\n",
    "df.isnull().sum()"
   ]
  },
  {
   "cell_type": "markdown",
   "metadata": {},
   "source": [
    ">Now lets take a look at our NaN value analysis and see which columns contain them.\n",
    "\n",
    ">The following columns below contain NaN values:\n",
    " - revenue: 5696\n",
    " - budget: 6016\n",
    " - cast: 76\n",
    " - directors: 44\n",
    " - genres: 23\n",
    " \n",
    " >For analysis purposes, the NaN values will be removed from the dataset since the above fields need values in order to be useful. "
   ]
  },
  {
   "cell_type": "code",
   "execution_count": 16,
   "metadata": {},
   "outputs": [],
   "source": [
    "# Drop rows with any null values in dataset\n",
    "df.dropna(how='any', inplace=True)"
   ]
  },
  {
   "cell_type": "code",
   "execution_count": 17,
   "metadata": {},
   "outputs": [
    {
     "data": {
      "text/plain": [
       "False"
      ]
     },
     "execution_count": 17,
     "metadata": {},
     "output_type": "execute_result"
    }
   ],
   "source": [
    "# Check and confirm if any null values still exist in dataset, should show false\n",
    "df.isnull().sum().any()"
   ]
  },
  {
   "cell_type": "markdown",
   "metadata": {},
   "source": [
    "<a id='step_5'></a>\n",
    "### <font color=blue>Step 5. Review data types and convert to correct formats</font>\n",
    "\n",
    "> Lets review data types by running dtypes. From this, we can see that the following adjustments need to be made:\n",
    "- budget and revenue columns need to be converted to int data types\n",
    "- release year needs to be convert to date time."
   ]
  },
  {
   "cell_type": "code",
   "execution_count": 18,
   "metadata": {},
   "outputs": [
    {
     "data": {
      "text/plain": [
       "id                  int64\n",
       "popularity        float64\n",
       "budget            float64\n",
       "revenue           float64\n",
       "original_title     object\n",
       "cast               object\n",
       "director           object\n",
       "runtime            object\n",
       "genres             object\n",
       "release_date       object\n",
       "release_year        int64\n",
       "dtype: object"
      ]
     },
     "execution_count": 18,
     "metadata": {},
     "output_type": "execute_result"
    }
   ],
   "source": [
    "# Check datatypes \n",
    "df.dtypes"
   ]
  },
  {
   "cell_type": "code",
   "execution_count": 19,
   "metadata": {},
   "outputs": [],
   "source": [
    "# Converting the budget and revenue datatypes from float to int\n",
    "col_type = ['budget', 'revenue']\n",
    "df[col_type] = df[col_type].applymap(np.int64)"
   ]
  },
  {
   "cell_type": "code",
   "execution_count": 20,
   "metadata": {},
   "outputs": [
    {
     "data": {
      "text/plain": [
       "id                  int64\n",
       "popularity        float64\n",
       "budget              int64\n",
       "revenue             int64\n",
       "original_title     object\n",
       "cast               object\n",
       "director           object\n",
       "runtime            object\n",
       "genres             object\n",
       "release_date       object\n",
       "release_year        int64\n",
       "dtype: object"
      ]
     },
     "execution_count": 20,
     "metadata": {},
     "output_type": "execute_result"
    }
   ],
   "source": [
    "# Confirm data types were updated to int\n",
    "df.dtypes"
   ]
  },
  {
   "cell_type": "markdown",
   "metadata": {},
   "source": [
    ">Next, lets convert 'release_date' to correct data type. It should be represented as a date time object with the format (yyyy-mm-dd)"
   ]
  },
  {
   "cell_type": "code",
   "execution_count": 21,
   "metadata": {},
   "outputs": [],
   "source": [
    "# Convert release_date column to correct data type of datetime\n",
    "df['release_date'] = pd.to_datetime(df['release_date'])"
   ]
  },
  {
   "cell_type": "code",
   "execution_count": 22,
   "metadata": {},
   "outputs": [
    {
     "data": {
      "text/html": [
       "<div>\n",
       "<style>\n",
       "    .dataframe thead tr:only-child th {\n",
       "        text-align: right;\n",
       "    }\n",
       "\n",
       "    .dataframe thead th {\n",
       "        text-align: left;\n",
       "    }\n",
       "\n",
       "    .dataframe tbody tr th {\n",
       "        vertical-align: top;\n",
       "    }\n",
       "</style>\n",
       "<table border=\"1\" class=\"dataframe\">\n",
       "  <thead>\n",
       "    <tr style=\"text-align: right;\">\n",
       "      <th></th>\n",
       "      <th>id</th>\n",
       "      <th>popularity</th>\n",
       "      <th>budget</th>\n",
       "      <th>revenue</th>\n",
       "      <th>original_title</th>\n",
       "      <th>cast</th>\n",
       "      <th>director</th>\n",
       "      <th>runtime</th>\n",
       "      <th>genres</th>\n",
       "      <th>release_date</th>\n",
       "      <th>release_year</th>\n",
       "    </tr>\n",
       "  </thead>\n",
       "  <tbody>\n",
       "    <tr>\n",
       "      <th>0</th>\n",
       "      <td>135397</td>\n",
       "      <td>32.985763</td>\n",
       "      <td>150000000</td>\n",
       "      <td>1513528810</td>\n",
       "      <td>Jurassic World</td>\n",
       "      <td>Chris Pratt|Bryce Dallas Howard|Irrfan Khan|Vi...</td>\n",
       "      <td>Colin Trevorrow</td>\n",
       "      <td>124</td>\n",
       "      <td>Action|Adventure|Science Fiction|Thriller</td>\n",
       "      <td>2015-06-09</td>\n",
       "      <td>2015</td>\n",
       "    </tr>\n",
       "  </tbody>\n",
       "</table>\n",
       "</div>"
      ],
      "text/plain": [
       "       id  popularity     budget     revenue  original_title  \\\n",
       "0  135397   32.985763  150000000  1513528810  Jurassic World   \n",
       "\n",
       "                                                cast         director runtime  \\\n",
       "0  Chris Pratt|Bryce Dallas Howard|Irrfan Khan|Vi...  Colin Trevorrow     124   \n",
       "\n",
       "                                      genres release_date  release_year  \n",
       "0  Action|Adventure|Science Fiction|Thriller   2015-06-09          2015  "
      ]
     },
     "execution_count": 22,
     "metadata": {},
     "output_type": "execute_result"
    }
   ],
   "source": [
    "# Confirm date was converted correctly\n",
    "df.head(1)"
   ]
  },
  {
   "cell_type": "code",
   "execution_count": 23,
   "metadata": {},
   "outputs": [
    {
     "data": {
      "text/plain": [
       "pandas._libs.tslib.Timestamp"
      ]
     },
     "execution_count": 23,
     "metadata": {},
     "output_type": "execute_result"
    }
   ],
   "source": [
    "# Confirm release_date is showing the correct datatype of timestamp\n",
    "type(df['release_date'][0])"
   ]
  },
  {
   "cell_type": "markdown",
   "metadata": {},
   "source": [
    "<a id='step_6'></a>\n",
    "### <font color=blue>Step 6. Create a function to remove pipe (|) character from columns that contain multiple characters</font>\n"
   ]
  },
  {
   "cell_type": "code",
   "execution_count": 24,
   "metadata": {},
   "outputs": [],
   "source": [
    "# Create a function to remove pipe (|) character from columns that contain multiple characters and returns a count\n",
    "def split_data(column):\n",
    "    #will take a column, and separate the string by '|'\n",
    "    split_data = df[column].str.cat(sep = '|')\n",
    "    \n",
    "    # Assigning a pandas series and storing values in the split_data variable\n",
    "    split_data = pd.Series(split_data.split('|'))\n",
    "    \n",
    "    # Ordering count values in descending order\n",
    "    count = split_data.value_counts(ascending = False)\n",
    "    \n",
    "    return count"
   ]
  },
  {
   "cell_type": "markdown",
   "metadata": {},
   "source": [
    "<a id='step_7'></a>\n",
    "### <font color=blue>Step 7. Create a function to retrieve the maxium record from a column</font>"
   ]
  },
  {
   "cell_type": "code",
   "execution_count": 25,
   "metadata": {},
   "outputs": [],
   "source": [
    "# Create a function to retrieve the maxium record from a column\n",
    "def get_max_record(column):\n",
    "    max = df[column].idxmax()\n",
    "    max_record = pd.DataFrame(df.loc[max])\n",
    "    \n",
    "    return max_record"
   ]
  },
  {
   "cell_type": "markdown",
   "metadata": {},
   "source": [
    "<a id='step_8'></a>\n",
    "### <font color=blue>Step 8. Create a function to retrieve the top 5 records with the highest values from a column</font>"
   ]
  },
  {
   "cell_type": "code",
   "execution_count": 26,
   "metadata": {},
   "outputs": [],
   "source": [
    "# Create a function to retrieve the top 5 records with the highest values from a column\n",
    "def get_top_records(column):\n",
    "    top_records = df.sort_values([column], ascending=[False])\n",
    "    top_record_values = pd.DataFrame(top_records).head()\n",
    "          \n",
    "    return top_record_values"
   ]
  },
  {
   "cell_type": "markdown",
   "metadata": {},
   "source": [
    "<a id='eda'></a>\n",
    "## Exploratory Data Analysis\n",
    "\n",
    "\n",
    " 1. What are movie revenues from year to year?\n",
    " 2. How many movies are released from year to year?\n",
    " 3. What is the percentage growth rate for movies released from 1960 to 2015?\n",
    " 4. What is the relationship between revenues and budgets from year to year?\n",
    " 5. Which years have the largest variances from 1960 to 2015?\n",
    " 6. Which movies had the largest variances from 1960 to 2015?\n",
    " 7. What were the number of movies produced by genre type?\n",
    " 8. Which genres generated the highest revenues?\n",
    " 9. What were the most successful movies from 1960 to 2015?\n",
    " 10. Which directors produced the most movies from year to year?\n",
    " 11. What directors generated the highest revenues?\n",
    " 12. Which movies had the highest popularity rankings?\n",
    " 13. Which actors appeared in the most movies?"
   ]
  },
  {
   "cell_type": "markdown",
   "metadata": {},
   "source": [
    "### Research Question 1 - What are movie revenues from year to year?"
   ]
  },
  {
   "cell_type": "markdown",
   "metadata": {},
   "source": [
    "> First, lets determine total movie revenues generated per release year."
   ]
  },
  {
   "cell_type": "code",
   "execution_count": 27,
   "metadata": {},
   "outputs": [],
   "source": [
    "# Create a function to retrieve the top 5 years with with the highest sum values from a column\n",
    "def get_top_yearly_records(column1,column2):\n",
    "    top_yearly = df.groupby([column1])[column2].sum()\n",
    "    top_yearly_values = top_yearly.sort_values(ascending=False).head()\n",
    "    \n",
    "    return top_yearly_values\n"
   ]
  },
  {
   "cell_type": "code",
   "execution_count": 28,
   "metadata": {},
   "outputs": [
    {
     "data": {
      "text/plain": [
       "release_year\n",
       "2015    26202922801\n",
       "2013    24350666103\n",
       "2012    24151056032\n",
       "2014    24069969357\n",
       "2011    23408245247\n",
       "Name: revenue, dtype: int64"
      ]
     },
     "execution_count": 28,
     "metadata": {},
     "output_type": "execute_result"
    }
   ],
   "source": [
    "# Calculate total movie revenues generated per release year by using the get_top_yearly_records function\n",
    "get_top_yearly_records('release_year', 'revenue')"
   ]
  },
  {
   "cell_type": "code",
   "execution_count": 29,
   "metadata": {},
   "outputs": [
    {
     "data": {
      "image/png": "[encoded data removed]",
      "text/plain": [
       "<matplotlib.figure.Figure at 0x7fc253210f28>"
      ]
     },
     "metadata": {},
     "output_type": "display_data"
    }
   ],
   "source": [
    "# Plotting revenues per release year\n",
    "yearly_revenue = df.groupby(['release_year'])['revenue'].sum()\n",
    "yearly_revenue.sort_values(ascending=False)\n",
    "\n",
    "plt.style.use('seaborn-whitegrid')\n",
    "\n",
    "# Create figure and axis\n",
    "fig = plt.figure()\n",
    "ax = plt.axes()\n",
    "\n",
    "plt.plot(yearly_revenue)\n",
    "plt.title(\"Revenues Per Release Year\")\n",
    "plt.xlabel(\"Release Year\")\n",
    "plt.ylabel(\"Revenues\");"
   ]
  },
  {
   "cell_type": "markdown",
   "metadata": {},
   "source": [
    "> Based on the above line graph, there has been an upward revenue trend over the years.\n",
    "\n",
    ">Next, lets take a look at the number of movies produced each year compared to revenues to help us understand the relationship between the two variables. "
   ]
  },
  {
   "cell_type": "markdown",
   "metadata": {},
   "source": [
    "### Research Question 2 - How many movies are released from year to year?"
   ]
  },
  {
   "cell_type": "markdown",
   "metadata": {},
   "source": [
    ">Based on the number of movies released from year to year, let's review the top ten years, to determine which years produced the most movies and plot a line graph to help us visualize the results."
   ]
  },
  {
   "cell_type": "code",
   "execution_count": 30,
   "metadata": {},
   "outputs": [
    {
     "data": {
      "text/plain": [
       "release_year\n",
       "2011    199\n",
       "2013    180\n",
       "2010    178\n",
       "2009    174\n",
       "2006    169\n",
       "2008    166\n",
       "2014    165\n",
       "2007    164\n",
       "2005    163\n",
       "2015    160\n",
       "Name: original_title, dtype: int64"
      ]
     },
     "execution_count": 30,
     "metadata": {},
     "output_type": "execute_result"
    }
   ],
   "source": [
    "# How many movies are produced per year\n",
    "yearly_qty = df.groupby(['release_year'])['original_title'].count()\n",
    "\n",
    "# Create a variable called top_year to show which years produced the most movies\n",
    "top_year = yearly_qty.sort_values(ascending=False).head(10)\n",
    "top_year"
   ]
  },
  {
   "cell_type": "code",
   "execution_count": 31,
   "metadata": {},
   "outputs": [
    {
     "data": {
      "image/png": "[encoded data removed]",
      "text/plain": [
       "<matplotlib.figure.Figure at 0x7fc2532382e8>"
      ]
     },
     "metadata": {},
     "output_type": "display_data"
    }
   ],
   "source": [
    "# Plotting count of movies produced per release year\n",
    "plt.style.use('seaborn-whitegrid')\n",
    "\n",
    "# Create figure and axis\n",
    "fig = plt.figure()\n",
    "ax = plt.axes()\n",
    "\n",
    "plt.plot(yearly_qty)\n",
    "plt.title(\"Movie Counts Per Release Year\")\n",
    "plt.xlabel(\"Release Year\")\n",
    "plt.ylabel(\"Quantity\");"
   ]
  },
  {
   "cell_type": "markdown",
   "metadata": {},
   "source": [
    ">From our analysis above, we can see that the number of movies produced are increasing from year to year with 2011 having the highest peak producing 196 movies that year. However, there were some noticeable troughs especially in 2013 when movies decreased to a count of 179. \n",
    "\n",
    ">Next, let's calculate the pecentage growth rate to help us determine the rate at which movies releases are growing from year to year based on our date range (1960 to 2015). "
   ]
  },
  {
   "cell_type": "markdown",
   "metadata": {},
   "source": [
    "### Research Question 3 - What is the percentage growth rate for movies released from 1960 to 2015? \n",
    "\n",
    ">Here we will calculate the percentage growth rate for movie releases from 1960 to 2015 and plot the results to get a visualization."
   ]
  },
  {
   "cell_type": "code",
   "execution_count": 32,
   "metadata": {},
   "outputs": [],
   "source": [
    "# Calculate percentage growth for number of movies produced per year and show in percentages for years 1960 to 2015\n",
    "growth_rate = yearly_qty / yearly_qty.iloc[0] * 100"
   ]
  },
  {
   "cell_type": "code",
   "execution_count": 33,
   "metadata": {},
   "outputs": [
    {
     "data": {
      "image/png": "[encoded data removed]",
      "text/plain": [
       "<matplotlib.figure.Figure at 0x7fc253161208>"
      ]
     },
     "metadata": {},
     "output_type": "display_data"
    }
   ],
   "source": [
    "# Plot percentage growth of movies produced each year\n",
    "plt.style.use('seaborn-whitegrid')\n",
    "\n",
    "# Create figure and axis\n",
    "fig = plt.figure()\n",
    "ax = plt.axes()\n",
    "\n",
    "plt.plot(growth_rate)\n",
    "\n",
    "plt.title(\"Percentage Growth - Movies Released Per Year\")\n",
    "plt.xlabel(\"Release Year\")\n",
    "plt.ylabel(\"Percentage\");\n",
    "\n",
    "plt.show()"
   ]
  },
  {
   "cell_type": "markdown",
   "metadata": {},
   "source": [
    "> Based on the total number of movies produced each year, I noted that movie production has increased significantly from only five movies released in 1960 compared to 160 in 2015.  Per my analysis, the increase in the number of movies produced each year appears to be driving revenues since more movies equals more revenue potential. The graph above shows a positive correlation. We can see that the percentage growth of movie releases has increased from a humble starting point of 100 % in 1960 all the way to 3,200 % by 2015. This huge growth rate leads us to an important question of why? What is causing the growth in movie production to increase over the years? \n",
    "\n",
    ">Research shows that technology advances in film production, are allowing the film industry to produce more movies than ever that were not previously possible. In addition, advances in cameras, visual effects, and audio are enabling the production of higher resolution/better quality films. Also, the ability to go digital versus using costly film has significantly reduced movie production costs. Shooting in digital allows producers to do more in less time at a much lower cost. All of these factors contribute to the ability to produce more movies each year, resulting in the potential for more revenue growth year to year."
   ]
  },
  {
   "cell_type": "markdown",
   "metadata": {},
   "source": [
    "### Research Question 4 - What is the relationship between revenues and budgets from year to year"
   ]
  },
  {
   "cell_type": "markdown",
   "metadata": {},
   "source": [
    "> First step, lets determine which years had the largest revenues and budgets. Since, we do not have actual cost data, for our analysis, we'll compare budgets to revenues and look at the variances between the two variables. "
   ]
  },
  {
   "cell_type": "code",
   "execution_count": 34,
   "metadata": {},
   "outputs": [
    {
     "data": {
      "text/plain": [
       "release_year\n",
       "2015    26202922801\n",
       "2013    24350666103\n",
       "2012    24151056032\n",
       "2014    24069969357\n",
       "2011    23408245247\n",
       "Name: revenue, dtype: int64"
      ]
     },
     "execution_count": 34,
     "metadata": {},
     "output_type": "execute_result"
    }
   ],
   "source": [
    "# Calculating years with the highest revenues by calling on the get_top_yearly_records function\n",
    "get_top_yearly_records('release_year', 'revenue')"
   ]
  },
  {
   "cell_type": "code",
   "execution_count": 35,
   "metadata": {},
   "outputs": [
    {
     "data": {
      "text/plain": [
       "release_year\n",
       "2013    8567922778\n",
       "2010    8463138439\n",
       "2011    8441550543\n",
       "2012    7585110525\n",
       "2009    7537827919\n",
       "Name: budget, dtype: int64"
      ]
     },
     "execution_count": 35,
     "metadata": {},
     "output_type": "execute_result"
    }
   ],
   "source": [
    "# Calculating years with the highest budgets by calling on the get_top_yearly_records function\n",
    "get_top_yearly_records('release_year', 'budget')"
   ]
  },
  {
   "cell_type": "code",
   "execution_count": 36,
   "metadata": {},
   "outputs": [],
   "source": [
    "# Calculating years with the highest revenues and budgets for plotting\n",
    "rev_sum = df.groupby(['release_year']).sum().revenue\n",
    "budget_sum = df.groupby(['release_year']).sum().budget\n",
    "\n",
    "# Creating indexes for plotting\n",
    "rev_year = rev_sum.index\n",
    "budget_year = budget_sum.index"
   ]
  },
  {
   "cell_type": "code",
   "execution_count": 37,
   "metadata": {},
   "outputs": [
    {
     "data": {
      "image/png": "[encoded data removed]",
      "text/plain": [
       "<matplotlib.figure.Figure at 0x7fc2531f1f60>"
      ]
     },
     "metadata": {},
     "output_type": "display_data"
    }
   ],
   "source": [
    "# Plotting yearly budget versus revenue\n",
    "sns.set_style('whitegrid')\n",
    "x1, y1 = budget_year, budget_sum\n",
    "x2, y2 = rev_year, rev_sum\n",
    "\n",
    "plt.figure(figsize=(12,4))\n",
    "plt.plot(x1, y1, color = 'b', label='Budget')\n",
    "plt.plot(x2, y2, color = 'g', label='Revenue')\n",
    "plt.title('Yearly Budget versus Revenue Comparison')\n",
    "plt.xlabel('Year')\n",
    "plt.ylabel('Dollars');\n",
    "plt.legend(loc='lower right')\n",
    "plt.show()"
   ]
  },
  {
   "cell_type": "markdown",
   "metadata": {},
   "source": [
    "> Looking at the line chart above, you can see that both revenues and budgets are showing a positive correlation. You'll also notice that the gap between the two variables is increasing from year to year. Next, lets take a deeper dive into this growing gap by adding a variance column to the dataset to see which years had the largest variances and invesigate any outliers."
   ]
  },
  {
   "cell_type": "markdown",
   "metadata": {},
   "source": [
    "### Research Question 5 - Which years have the largest variances from 1960 to 2015?"
   ]
  },
  {
   "cell_type": "code",
   "execution_count": 38,
   "metadata": {},
   "outputs": [],
   "source": [
    "# Add a variance column that calculates the difference between revenue and budget\n",
    "# Adding new column between revenue and original_title columns\n",
    "df.insert(4, 'variance', df['revenue'] - df['budget'])"
   ]
  },
  {
   "cell_type": "code",
   "execution_count": 39,
   "metadata": {},
   "outputs": [
    {
     "data": {
      "text/plain": [
       "release_year\n",
       "2015    19032145273\n",
       "2014    16676201357\n",
       "2012    16565945507\n",
       "2013    15782743325\n",
       "2011    14966694704\n",
       "Name: variance, dtype: int64"
      ]
     },
     "execution_count": 39,
     "metadata": {},
     "output_type": "execute_result"
    }
   ],
   "source": [
    "# Calculate years with the largest variances by calling on the get_top_yearly_records function\n",
    "get_top_yearly_records('release_year', 'variance')"
   ]
  },
  {
   "cell_type": "code",
   "execution_count": 40,
   "metadata": {},
   "outputs": [
    {
     "data": {
      "text/plain": [
       "count    3.849000e+03\n",
       "mean     7.056595e+07\n",
       "std      1.506990e+08\n",
       "min     -4.139124e+08\n",
       "25%     -1.312284e+06\n",
       "50%      2.014450e+07\n",
       "75%      8.198066e+07\n",
       "max      2.544506e+09\n",
       "Name: variance, dtype: float64"
      ]
     },
     "execution_count": 40,
     "metadata": {},
     "output_type": "execute_result"
    }
   ],
   "source": [
    "# Show statistics for variances\n",
    "df['variance'].describe()"
   ]
  },
  {
   "cell_type": "markdown",
   "metadata": {},
   "source": [
    ">The above statistics for the variance column is showing a maximum variance of 2.54 billion. Let's investigate and see which movies had the largest variances."
   ]
  },
  {
   "cell_type": "markdown",
   "metadata": {},
   "source": [
    "### Research Question 6 - Which movies had the largest variances from 1960 to 2015?\n",
    ">Based on the above statistics, let use the get_max_record function to see which movie is tied to max variance (2.54 billion)."
   ]
  },
  {
   "cell_type": "code",
   "execution_count": 41,
   "metadata": {},
   "outputs": [
    {
     "data": {
      "text/html": [
       "<div>\n",
       "<style>\n",
       "    .dataframe thead tr:only-child th {\n",
       "        text-align: right;\n",
       "    }\n",
       "\n",
       "    .dataframe thead th {\n",
       "        text-align: left;\n",
       "    }\n",
       "\n",
       "    .dataframe tbody tr th {\n",
       "        vertical-align: top;\n",
       "    }\n",
       "</style>\n",
       "<table border=\"1\" class=\"dataframe\">\n",
       "  <thead>\n",
       "    <tr style=\"text-align: right;\">\n",
       "      <th></th>\n",
       "      <th>1386</th>\n",
       "    </tr>\n",
       "  </thead>\n",
       "  <tbody>\n",
       "    <tr>\n",
       "      <th>id</th>\n",
       "      <td>19995</td>\n",
       "    </tr>\n",
       "    <tr>\n",
       "      <th>popularity</th>\n",
       "      <td>9.43277</td>\n",
       "    </tr>\n",
       "    <tr>\n",
       "      <th>budget</th>\n",
       "      <td>237000000</td>\n",
       "    </tr>\n",
       "    <tr>\n",
       "      <th>revenue</th>\n",
       "      <td>2781505847</td>\n",
       "    </tr>\n",
       "    <tr>\n",
       "      <th>variance</th>\n",
       "      <td>2544505847</td>\n",
       "    </tr>\n",
       "    <tr>\n",
       "      <th>original_title</th>\n",
       "      <td>Avatar</td>\n",
       "    </tr>\n",
       "    <tr>\n",
       "      <th>cast</th>\n",
       "      <td>Sam Worthington|Zoe Saldana|Sigourney Weaver|S...</td>\n",
       "    </tr>\n",
       "    <tr>\n",
       "      <th>director</th>\n",
       "      <td>James Cameron</td>\n",
       "    </tr>\n",
       "    <tr>\n",
       "      <th>runtime</th>\n",
       "      <td>162</td>\n",
       "    </tr>\n",
       "    <tr>\n",
       "      <th>genres</th>\n",
       "      <td>Action|Adventure|Fantasy|Science Fiction</td>\n",
       "    </tr>\n",
       "    <tr>\n",
       "      <th>release_date</th>\n",
       "      <td>2009-12-10 00:00:00</td>\n",
       "    </tr>\n",
       "    <tr>\n",
       "      <th>release_year</th>\n",
       "      <td>2009</td>\n",
       "    </tr>\n",
       "  </tbody>\n",
       "</table>\n",
       "</div>"
      ],
      "text/plain": [
       "                                                             1386\n",
       "id                                                          19995\n",
       "popularity                                                9.43277\n",
       "budget                                                  237000000\n",
       "revenue                                                2781505847\n",
       "variance                                               2544505847\n",
       "original_title                                             Avatar\n",
       "cast            Sam Worthington|Zoe Saldana|Sigourney Weaver|S...\n",
       "director                                            James Cameron\n",
       "runtime                                                       162\n",
       "genres                   Action|Adventure|Fantasy|Science Fiction\n",
       "release_date                                  2009-12-10 00:00:00\n",
       "release_year                                                 2009"
      ]
     },
     "execution_count": 41,
     "metadata": {},
     "output_type": "execute_result"
    }
   ],
   "source": [
    "# Call on get_max_record function to show the movie with the largest variance (revenue minus budget)\n",
    "get_max_record('variance')"
   ]
  },
  {
   "cell_type": "markdown",
   "metadata": {},
   "source": [
    ">The results list Avatar as the movie with the largest maximum variance. It's not surprising since Avatar is considered one of the highest grossing films of all time, generating total revenues of 2.54 Billion.\n",
    "\n",
    ">Next, let's plot the variances to get a visual overview and investigate any outliers."
   ]
  },
  {
   "cell_type": "code",
   "execution_count": 42,
   "metadata": {},
   "outputs": [
    {
     "data": {
      "image/png": "[encoded data removed]",
      "text/plain": [
       "<matplotlib.figure.Figure at 0x7fc2530d3518>"
      ]
     },
     "metadata": {},
     "output_type": "display_data"
    }
   ],
   "source": [
    "# Plot release year per variances\n",
    "plt.scatter(df.release_year, df.variance, 5)\n",
    "plt.title('Budget Variance and Release Year')\n",
    "plt.xlabel('Movie Release Year')\n",
    "plt.ylabel('Budget Variance')\n",
    "plt.show()"
   ]
  },
  {
   "cell_type": "markdown",
   "metadata": {},
   "source": [
    ">In the scatterplot above, four outliers were noted that showed significant variances between revenues and budgets.  Three were favorable with variances over 1.5 billion and one was unfavorable with a negative variance of -4.13 million. Let's review and get the movie details by filtering on variances greater than 1.5 billion and less than -4.13 million."
   ]
  },
  {
   "cell_type": "code",
   "execution_count": 43,
   "metadata": {},
   "outputs": [
    {
     "data": {
      "text/html": [
       "<div>\n",
       "<style>\n",
       "    .dataframe thead tr:only-child th {\n",
       "        text-align: right;\n",
       "    }\n",
       "\n",
       "    .dataframe thead th {\n",
       "        text-align: left;\n",
       "    }\n",
       "\n",
       "    .dataframe tbody tr th {\n",
       "        vertical-align: top;\n",
       "    }\n",
       "</style>\n",
       "<table border=\"1\" class=\"dataframe\">\n",
       "  <thead>\n",
       "    <tr style=\"text-align: right;\">\n",
       "      <th></th>\n",
       "      <th>id</th>\n",
       "      <th>popularity</th>\n",
       "      <th>budget</th>\n",
       "      <th>revenue</th>\n",
       "      <th>variance</th>\n",
       "      <th>original_title</th>\n",
       "      <th>cast</th>\n",
       "      <th>director</th>\n",
       "      <th>runtime</th>\n",
       "      <th>genres</th>\n",
       "      <th>release_date</th>\n",
       "      <th>release_year</th>\n",
       "    </tr>\n",
       "  </thead>\n",
       "  <tbody>\n",
       "    <tr>\n",
       "      <th>3</th>\n",
       "      <td>140607</td>\n",
       "      <td>11.173104</td>\n",
       "      <td>200000000</td>\n",
       "      <td>2068178225</td>\n",
       "      <td>1868178225</td>\n",
       "      <td>Star Wars: The Force Awakens</td>\n",
       "      <td>Harrison Ford|Mark Hamill|Carrie Fisher|Adam D...</td>\n",
       "      <td>J.J. Abrams</td>\n",
       "      <td>136</td>\n",
       "      <td>Action|Adventure|Science Fiction|Fantasy</td>\n",
       "      <td>2015-12-15</td>\n",
       "      <td>2015</td>\n",
       "    </tr>\n",
       "    <tr>\n",
       "      <th>1386</th>\n",
       "      <td>19995</td>\n",
       "      <td>9.432768</td>\n",
       "      <td>237000000</td>\n",
       "      <td>2781505847</td>\n",
       "      <td>2544505847</td>\n",
       "      <td>Avatar</td>\n",
       "      <td>Sam Worthington|Zoe Saldana|Sigourney Weaver|S...</td>\n",
       "      <td>James Cameron</td>\n",
       "      <td>162</td>\n",
       "      <td>Action|Adventure|Fantasy|Science Fiction</td>\n",
       "      <td>2009-12-10</td>\n",
       "      <td>2009</td>\n",
       "    </tr>\n",
       "    <tr>\n",
       "      <th>5231</th>\n",
       "      <td>597</td>\n",
       "      <td>4.355219</td>\n",
       "      <td>200000000</td>\n",
       "      <td>1845034188</td>\n",
       "      <td>1645034188</td>\n",
       "      <td>Titanic</td>\n",
       "      <td>Kate Winslet|Leonardo DiCaprio|Frances Fisher|...</td>\n",
       "      <td>James Cameron</td>\n",
       "      <td>194</td>\n",
       "      <td>Drama|Romance|Thriller</td>\n",
       "      <td>1997-11-18</td>\n",
       "      <td>1997</td>\n",
       "    </tr>\n",
       "  </tbody>\n",
       "</table>\n",
       "</div>"
      ],
      "text/plain": [
       "          id  popularity     budget     revenue    variance  \\\n",
       "3     140607   11.173104  200000000  2068178225  1868178225   \n",
       "1386   19995    9.432768  237000000  2781505847  2544505847   \n",
       "5231     597    4.355219  200000000  1845034188  1645034188   \n",
       "\n",
       "                    original_title  \\\n",
       "3     Star Wars: The Force Awakens   \n",
       "1386                        Avatar   \n",
       "5231                       Titanic   \n",
       "\n",
       "                                                   cast       director  \\\n",
       "3     Harrison Ford|Mark Hamill|Carrie Fisher|Adam D...    J.J. Abrams   \n",
       "1386  Sam Worthington|Zoe Saldana|Sigourney Weaver|S...  James Cameron   \n",
       "5231  Kate Winslet|Leonardo DiCaprio|Frances Fisher|...  James Cameron   \n",
       "\n",
       "     runtime                                    genres release_date  \\\n",
       "3        136  Action|Adventure|Science Fiction|Fantasy   2015-12-15   \n",
       "1386     162  Action|Adventure|Fantasy|Science Fiction   2009-12-10   \n",
       "5231     194                    Drama|Romance|Thriller   1997-11-18   \n",
       "\n",
       "      release_year  \n",
       "3             2015  \n",
       "1386          2009  \n",
       "5231          1997  "
      ]
     },
     "execution_count": 43,
     "metadata": {},
     "output_type": "execute_result"
    }
   ],
   "source": [
    "# Show details on the three favorable outlier variances greater than 1.5 billion\n",
    "df[df.variance > 1500000000]"
   ]
  },
  {
   "cell_type": "code",
   "execution_count": 44,
   "metadata": {},
   "outputs": [
    {
     "data": {
      "text/html": [
       "<div>\n",
       "<style>\n",
       "    .dataframe thead tr:only-child th {\n",
       "        text-align: right;\n",
       "    }\n",
       "\n",
       "    .dataframe thead th {\n",
       "        text-align: left;\n",
       "    }\n",
       "\n",
       "    .dataframe tbody tr th {\n",
       "        vertical-align: top;\n",
       "    }\n",
       "</style>\n",
       "<table border=\"1\" class=\"dataframe\">\n",
       "  <thead>\n",
       "    <tr style=\"text-align: right;\">\n",
       "      <th></th>\n",
       "      <th>id</th>\n",
       "      <th>popularity</th>\n",
       "      <th>budget</th>\n",
       "      <th>revenue</th>\n",
       "      <th>variance</th>\n",
       "      <th>original_title</th>\n",
       "      <th>cast</th>\n",
       "      <th>director</th>\n",
       "      <th>runtime</th>\n",
       "      <th>genres</th>\n",
       "      <th>release_date</th>\n",
       "      <th>release_year</th>\n",
       "    </tr>\n",
       "  </thead>\n",
       "  <tbody>\n",
       "    <tr>\n",
       "      <th>2244</th>\n",
       "      <td>46528</td>\n",
       "      <td>0.25054</td>\n",
       "      <td>425000000</td>\n",
       "      <td>11087569</td>\n",
       "      <td>-413912431</td>\n",
       "      <td>The Warrior's Way</td>\n",
       "      <td>Kate Bosworth|Jang Dong-gun|Geoffrey Rush|Dann...</td>\n",
       "      <td>Sngmoo Lee</td>\n",
       "      <td>100</td>\n",
       "      <td>Adventure|Fantasy|Action|Western|Thriller</td>\n",
       "      <td>2010-12-02</td>\n",
       "      <td>2010</td>\n",
       "    </tr>\n",
       "  </tbody>\n",
       "</table>\n",
       "</div>"
      ],
      "text/plain": [
       "         id  popularity     budget   revenue   variance     original_title  \\\n",
       "2244  46528     0.25054  425000000  11087569 -413912431  The Warrior's Way   \n",
       "\n",
       "                                                   cast    director runtime  \\\n",
       "2244  Kate Bosworth|Jang Dong-gun|Geoffrey Rush|Dann...  Sngmoo Lee     100   \n",
       "\n",
       "                                         genres release_date  release_year  \n",
       "2244  Adventure|Fantasy|Action|Western|Thriller   2010-12-02          2010  "
      ]
     },
     "execution_count": 44,
     "metadata": {},
     "output_type": "execute_result"
    }
   ],
   "source": [
    "# Show details on the negative outlier variance less than or equal to -4.13 million\n",
    "df[df.variance <= -413912400]"
   ]
  },
  {
   "cell_type": "markdown",
   "metadata": {},
   "source": [
    ">The three favorable outlier variances noted earlier were reference to the movies Star Wars, Avatar, and Titanic. The unfavorable variance was reference to the movie, The Warrior's Way. For the three favorable variances, I noted that James Cameron was the director for 2 of the movies, Avatar and Titanic, which were both very successful movies and were classified under the primary genres action and drama.\n",
    "\n",
    ">Now, let's look at the top 5 movies with the largest variances."
   ]
  },
  {
   "cell_type": "code",
   "execution_count": 45,
   "metadata": {},
   "outputs": [
    {
     "data": {
      "text/html": [
       "<div>\n",
       "<style>\n",
       "    .dataframe thead tr:only-child th {\n",
       "        text-align: right;\n",
       "    }\n",
       "\n",
       "    .dataframe thead th {\n",
       "        text-align: left;\n",
       "    }\n",
       "\n",
       "    .dataframe tbody tr th {\n",
       "        vertical-align: top;\n",
       "    }\n",
       "</style>\n",
       "<table border=\"1\" class=\"dataframe\">\n",
       "  <thead>\n",
       "    <tr style=\"text-align: right;\">\n",
       "      <th></th>\n",
       "      <th>id</th>\n",
       "      <th>popularity</th>\n",
       "      <th>budget</th>\n",
       "      <th>revenue</th>\n",
       "      <th>variance</th>\n",
       "      <th>original_title</th>\n",
       "      <th>cast</th>\n",
       "      <th>director</th>\n",
       "      <th>runtime</th>\n",
       "      <th>genres</th>\n",
       "      <th>release_date</th>\n",
       "      <th>release_year</th>\n",
       "    </tr>\n",
       "  </thead>\n",
       "  <tbody>\n",
       "    <tr>\n",
       "      <th>1386</th>\n",
       "      <td>19995</td>\n",
       "      <td>9.432768</td>\n",
       "      <td>237000000</td>\n",
       "      <td>2781505847</td>\n",
       "      <td>2544505847</td>\n",
       "      <td>Avatar</td>\n",
       "      <td>Sam Worthington|Zoe Saldana|Sigourney Weaver|S...</td>\n",
       "      <td>James Cameron</td>\n",
       "      <td>162</td>\n",
       "      <td>Action|Adventure|Fantasy|Science Fiction</td>\n",
       "      <td>2009-12-10</td>\n",
       "      <td>2009</td>\n",
       "    </tr>\n",
       "    <tr>\n",
       "      <th>3</th>\n",
       "      <td>140607</td>\n",
       "      <td>11.173104</td>\n",
       "      <td>200000000</td>\n",
       "      <td>2068178225</td>\n",
       "      <td>1868178225</td>\n",
       "      <td>Star Wars: The Force Awakens</td>\n",
       "      <td>Harrison Ford|Mark Hamill|Carrie Fisher|Adam D...</td>\n",
       "      <td>J.J. Abrams</td>\n",
       "      <td>136</td>\n",
       "      <td>Action|Adventure|Science Fiction|Fantasy</td>\n",
       "      <td>2015-12-15</td>\n",
       "      <td>2015</td>\n",
       "    </tr>\n",
       "    <tr>\n",
       "      <th>5231</th>\n",
       "      <td>597</td>\n",
       "      <td>4.355219</td>\n",
       "      <td>200000000</td>\n",
       "      <td>1845034188</td>\n",
       "      <td>1645034188</td>\n",
       "      <td>Titanic</td>\n",
       "      <td>Kate Winslet|Leonardo DiCaprio|Frances Fisher|...</td>\n",
       "      <td>James Cameron</td>\n",
       "      <td>194</td>\n",
       "      <td>Drama|Romance|Thriller</td>\n",
       "      <td>1997-11-18</td>\n",
       "      <td>1997</td>\n",
       "    </tr>\n",
       "    <tr>\n",
       "      <th>0</th>\n",
       "      <td>135397</td>\n",
       "      <td>32.985763</td>\n",
       "      <td>150000000</td>\n",
       "      <td>1513528810</td>\n",
       "      <td>1363528810</td>\n",
       "      <td>Jurassic World</td>\n",
       "      <td>Chris Pratt|Bryce Dallas Howard|Irrfan Khan|Vi...</td>\n",
       "      <td>Colin Trevorrow</td>\n",
       "      <td>124</td>\n",
       "      <td>Action|Adventure|Science Fiction|Thriller</td>\n",
       "      <td>2015-06-09</td>\n",
       "      <td>2015</td>\n",
       "    </tr>\n",
       "    <tr>\n",
       "      <th>4</th>\n",
       "      <td>168259</td>\n",
       "      <td>9.335014</td>\n",
       "      <td>190000000</td>\n",
       "      <td>1506249360</td>\n",
       "      <td>1316249360</td>\n",
       "      <td>Furious 7</td>\n",
       "      <td>Vin Diesel|Paul Walker|Jason Statham|Michelle ...</td>\n",
       "      <td>James Wan</td>\n",
       "      <td>137</td>\n",
       "      <td>Action|Crime|Thriller</td>\n",
       "      <td>2015-04-01</td>\n",
       "      <td>2015</td>\n",
       "    </tr>\n",
       "  </tbody>\n",
       "</table>\n",
       "</div>"
      ],
      "text/plain": [
       "          id  popularity     budget     revenue    variance  \\\n",
       "1386   19995    9.432768  237000000  2781505847  2544505847   \n",
       "3     140607   11.173104  200000000  2068178225  1868178225   \n",
       "5231     597    4.355219  200000000  1845034188  1645034188   \n",
       "0     135397   32.985763  150000000  1513528810  1363528810   \n",
       "4     168259    9.335014  190000000  1506249360  1316249360   \n",
       "\n",
       "                    original_title  \\\n",
       "1386                        Avatar   \n",
       "3     Star Wars: The Force Awakens   \n",
       "5231                       Titanic   \n",
       "0                   Jurassic World   \n",
       "4                        Furious 7   \n",
       "\n",
       "                                                   cast         director  \\\n",
       "1386  Sam Worthington|Zoe Saldana|Sigourney Weaver|S...    James Cameron   \n",
       "3     Harrison Ford|Mark Hamill|Carrie Fisher|Adam D...      J.J. Abrams   \n",
       "5231  Kate Winslet|Leonardo DiCaprio|Frances Fisher|...    James Cameron   \n",
       "0     Chris Pratt|Bryce Dallas Howard|Irrfan Khan|Vi...  Colin Trevorrow   \n",
       "4     Vin Diesel|Paul Walker|Jason Statham|Michelle ...        James Wan   \n",
       "\n",
       "     runtime                                     genres release_date  \\\n",
       "1386     162   Action|Adventure|Fantasy|Science Fiction   2009-12-10   \n",
       "3        136   Action|Adventure|Science Fiction|Fantasy   2015-12-15   \n",
       "5231     194                     Drama|Romance|Thriller   1997-11-18   \n",
       "0        124  Action|Adventure|Science Fiction|Thriller   2015-06-09   \n",
       "4        137                      Action|Crime|Thriller   2015-04-01   \n",
       "\n",
       "      release_year  \n",
       "1386          2009  \n",
       "3             2015  \n",
       "5231          1997  \n",
       "0             2015  \n",
       "4             2015  "
      ]
     },
     "execution_count": 45,
     "metadata": {},
     "output_type": "execute_result"
    }
   ],
   "source": [
    "# Call on the get_top_records function to display top 5 movies with the largest variances\n",
    "get_top_records('variance')"
   ]
  },
  {
   "cell_type": "markdown",
   "metadata": {},
   "source": [
    "> Per our earlier analysis, 2015 had the largest variance (19 billion) compared to the other years. But if you look at variances by movie detail, you can see that the top five movies with the largest variances (Avatar, Star Wars, Titanic, Jurassic World, and Furious 7) all came from different release years (2009, 2015, and 1997). I noted that top five movies with the largest variances were produced by some of the most well known and respected directors in the film industry. All having a history of always generating blockbusters. Also, if you look at the movie cast, you can see it includes a large array of famous actors. In my opinion, this could definitely influence revenue generation due their star power and huge fan base following.\n",
    "\n",
    "> Lets perform additional analysis to see which factors could be contributing to the large variances between revenue and budget.\n",
    "> For example, is there a correlation between director, genre, cast, or popularity that is helping to drive revenues and movie success."
   ]
  },
  {
   "cell_type": "markdown",
   "metadata": {},
   "source": [
    "### Research Question  7 - What were the number of movies produced by genre type?\n",
    "\n",
    ">First, we need to obtain a listing of genres. Since some of the rows in the genre column contain multiple values, we will need to split the strings to determine the unique genre categories."
   ]
  },
  {
   "cell_type": "code",
   "execution_count": 46,
   "metadata": {},
   "outputs": [
    {
     "data": {
      "text/html": [
       "<div>\n",
       "<style>\n",
       "    .dataframe thead tr:only-child th {\n",
       "        text-align: right;\n",
       "    }\n",
       "\n",
       "    .dataframe thead th {\n",
       "        text-align: left;\n",
       "    }\n",
       "\n",
       "    .dataframe tbody tr th {\n",
       "        vertical-align: top;\n",
       "    }\n",
       "</style>\n",
       "<table border=\"1\" class=\"dataframe\">\n",
       "  <thead>\n",
       "    <tr style=\"text-align: right;\">\n",
       "      <th></th>\n",
       "      <th>id</th>\n",
       "      <th>popularity</th>\n",
       "      <th>budget</th>\n",
       "      <th>revenue</th>\n",
       "      <th>variance</th>\n",
       "      <th>original_title</th>\n",
       "      <th>cast</th>\n",
       "      <th>director</th>\n",
       "      <th>runtime</th>\n",
       "      <th>genres</th>\n",
       "      <th>release_date</th>\n",
       "      <th>release_year</th>\n",
       "    </tr>\n",
       "  </thead>\n",
       "  <tbody>\n",
       "    <tr>\n",
       "      <th>0</th>\n",
       "      <td>135397</td>\n",
       "      <td>32.985763</td>\n",
       "      <td>150000000</td>\n",
       "      <td>1513528810</td>\n",
       "      <td>1363528810</td>\n",
       "      <td>Jurassic World</td>\n",
       "      <td>Chris Pratt|Bryce Dallas Howard|Irrfan Khan|Vi...</td>\n",
       "      <td>Colin Trevorrow</td>\n",
       "      <td>124</td>\n",
       "      <td>Action|Adventure|Science Fiction|Thriller</td>\n",
       "      <td>2015-06-09</td>\n",
       "      <td>2015</td>\n",
       "    </tr>\n",
       "  </tbody>\n",
       "</table>\n",
       "</div>"
      ],
      "text/plain": [
       "       id  popularity     budget     revenue    variance  original_title  \\\n",
       "0  135397   32.985763  150000000  1513528810  1363528810  Jurassic World   \n",
       "\n",
       "                                                cast         director runtime  \\\n",
       "0  Chris Pratt|Bryce Dallas Howard|Irrfan Khan|Vi...  Colin Trevorrow     124   \n",
       "\n",
       "                                      genres release_date  release_year  \n",
       "0  Action|Adventure|Science Fiction|Thriller   2015-06-09          2015  "
      ]
     },
     "execution_count": 46,
     "metadata": {},
     "output_type": "execute_result"
    }
   ],
   "source": [
    "# Determine which strings contain multiple values in the genres column\n",
    "df_genres = df[df['genres'].str.contains('|')]\n",
    "df_genres.head(1)"
   ]
  },
  {
   "cell_type": "markdown",
   "metadata": {},
   "source": [
    ">Based on my analysis of the genres column, the dataset contains 3805 rows, the genre column contains multiple values within the string.\n",
    "Next, we will take each genre row and split the multiple values into strings and keep the first value since the first value seems to be the primary genre type for the movie. In my opinion, including the other multiple values would skew the results causing the primary genre classification to be overshadowed."
   ]
  },
  {
   "cell_type": "code",
   "execution_count": 47,
   "metadata": {},
   "outputs": [
    {
     "data": {
      "text/plain": [
       "19"
      ]
     },
     "execution_count": 47,
     "metadata": {},
     "output_type": "execute_result"
    }
   ],
   "source": [
    "# Take each genre row and split the multiple values into strings and keep the first value.\n",
    "df['genres_split'] = df.genres.str.split('|').str[0]\n",
    "\n",
    "#Determine the number unique genre string values\n",
    "df.nunique().genres_split"
   ]
  },
  {
   "cell_type": "code",
   "execution_count": 48,
   "metadata": {},
   "outputs": [],
   "source": [
    "# Determine the number of movies produced by genre\n",
    "df_genre = df.groupby(['genres_split']).original_title.count()"
   ]
  },
  {
   "cell_type": "code",
   "execution_count": 49,
   "metadata": {},
   "outputs": [
    {
     "data": {
      "text/plain": [
       "genres_split\n",
       "Drama              889\n",
       "Comedy             787\n",
       "Action             689\n",
       "Adventure          314\n",
       "Horror             275\n",
       "Crime              171\n",
       "Thriller           160\n",
       "Fantasy            110\n",
       "Animation          103\n",
       "Science Fiction     98\n",
       "Name: original_title, dtype: int64"
      ]
     },
     "execution_count": 49,
     "metadata": {},
     "output_type": "execute_result"
    }
   ],
   "source": [
    "# Sort to determine the 10 top genres produced for movies\n",
    "top_genre = df_genre.sort_values(ascending=False).head(10)\n",
    "top_genre.head(10)"
   ]
  },
  {
   "cell_type": "code",
   "execution_count": 50,
   "metadata": {},
   "outputs": [
    {
     "data": {
      "image/png": "[encoded data removed]",
      "text/plain": [
       "<matplotlib.figure.Figure at 0x7fc252e6c908>"
      ]
     },
     "metadata": {},
     "output_type": "display_data"
    }
   ],
   "source": [
    "# Plotting the top 10 genre categories\n",
    "genre_percentage = top_genre\n",
    "genre_name = ['Drama', 'Comedy', 'Action', 'Adventure', 'Horror','Crime','Thriller', 'Fantasy', 'Animation','Science Fiction']\n",
    "\n",
    "plt.subplots(figsize=(7, 9))\n",
    "\n",
    "# Colors\n",
    "colors = [\"#1f77b4\", \"#ff7f0e\", \"#2ca02c\", \"#d62728\", \"#9467bd\",\"#1f77b4\", \"#ff7f0e\", \"#2ca02c\", \"#d62728\", \"#9467bd\"]\n",
    "\n",
    "# Explode 1st slice\n",
    "explode = (0.1, 0, 0, 0, 0, 0, 0, 0, 0, 0)  \n",
    "\n",
    "# Plot\n",
    "plt.pie(genre_percentage, explode=explode, labels=genre_name, colors=colors,        \n",
    "autopct='%1.1f%%', shadow=True, startangle=180)\n",
    "plt.title(\"Top 10 Genre Categories\", bbox={'facecolor':'0.8', 'pad':5})\n",
    "plt.axis(\"equal\")\n",
    "plt.show();"
   ]
  },
  {
   "cell_type": "markdown",
   "metadata": {},
   "source": [
    ">Based on the above analysis, there were 19 genre categories in total. From this list, I narrowed down my analysis to the top 10 genres with the highest movie counts. Looking at the pie chart above, you can visually see that Drama, Comedy, and Action counts were the most popular genres. This leads me to the question of why do directors/production companies gravitate towards these genres? Is is correlated with the potentail revenue streams that could be produced? Do these type of genres have the highest revenue producing movies?\n",
    "\n",
    ">Let's look at which genres produced the most revenues per year to get a better picture."
   ]
  },
  {
   "cell_type": "markdown",
   "metadata": {},
   "source": [
    "### Research Question 8 - Which genres generated the highest revenues?"
   ]
  },
  {
   "cell_type": "code",
   "execution_count": 51,
   "metadata": {},
   "outputs": [
    {
     "data": {
      "text/plain": [
       "genres_split\n",
       "Action             93654873325\n",
       "Adventure          71852343861\n",
       "Comedy             62011581729\n",
       "Drama              57627537910\n",
       "Animation          28441594648\n",
       "Fantasy            17555295357\n",
       "Science Fiction    17038789305\n",
       "Horror             15145576899\n",
       "Thriller           12609056746\n",
       "Crime              12206416011\n",
       "Name: revenue, dtype: int64"
      ]
     },
     "execution_count": 51,
     "metadata": {},
     "output_type": "execute_result"
    }
   ],
   "source": [
    "# Determine revenues generated per year by genre\n",
    "df_genre_rev = df.groupby(['genres_split']).sum().revenue\n",
    "\n",
    "# Sorting to determine highest revenues per genre\n",
    "top_rev_genre = df_genre_rev.sort_values(ascending=False)\n",
    "\n",
    "# Top 10 revenue producing genres\n",
    "top_rev_genre[:10]"
   ]
  },
  {
   "cell_type": "code",
   "execution_count": 52,
   "metadata": {},
   "outputs": [
    {
     "data": {
      "image/png": "[encoded data removed]",
      "text/plain": [
       "<matplotlib.figure.Figure at 0x7fc252e56d68>"
      ]
     },
     "metadata": {},
     "output_type": "display_data"
    }
   ],
   "source": [
    "# Plotting the top 10 revenue producing genres\n",
    "top_rev_genre.sort_values(ascending=True)[9:].plot(kind='barh', rot=0)\n",
    "\n",
    "plt.title('Top 10 Revenue Producing Genres', fontsize = '13', fontweight = 'bold')\n",
    "plt.xlabel('Revenues', fontsize = '12', fontweight = 'bold')\n",
    "plt.ylabel('Genres', fontsize = '12', fontweight = 'bold')\n",
    "plt.show();"
   ]
  },
  {
   "cell_type": "code",
   "execution_count": 53,
   "metadata": {},
   "outputs": [
    {
     "data": {
      "text/plain": [
       "genres_split\n",
       "TV Movie          42000000\n",
       "Documentary      652807270\n",
       "Western         1279386506\n",
       "History         1931446332\n",
       "Music           2245221642\n",
       "Mystery         2596258933\n",
       "War             2669712504\n",
       "Romance         6717823300\n",
       "Family          8701487612\n",
       "Crime          12206416011\n",
       "Name: revenue, dtype: int64"
      ]
     },
     "execution_count": 53,
     "metadata": {},
     "output_type": "execute_result"
    }
   ],
   "source": [
    "# Top 10 lowest revenue producing genres\n",
    "bottom_rev_genre = df_genre_rev.sort_values(ascending=True).head(10)\n",
    "bottom_rev_genre"
   ]
  },
  {
   "cell_type": "code",
   "execution_count": 54,
   "metadata": {},
   "outputs": [
    {
     "data": {
      "image/png": "[encoded data removed]",
      "text/plain": [
       "<matplotlib.figure.Figure at 0x7fc252e6cba8>"
      ]
     },
     "metadata": {},
     "output_type": "display_data"
    }
   ],
   "source": [
    "# Plotting 10 lowest revenue producing genres\n",
    "bottom_rev_genre.sort_values(ascending=False).plot(kind='barh', rot=0)\n",
    "\n",
    "plt.title('Top 10 Lowest Revenue Producing Genres', fontsize = '13', fontweight = 'bold')\n",
    "plt.xlabel('Genres', fontsize = '12', fontweight = 'bold')\n",
    "plt.ylabel('Revenues', fontsize = '12', fontweight = 'bold')\n",
    "plt.show();"
   ]
  },
  {
   "cell_type": "markdown",
   "metadata": {},
   "source": [
    ">Based on the revenue analysis per genre for the years 1960 to 2015, the top 5 revenue producing genres were: Action, Adventure, Comedy, and Drama with Action films coming in first generating total revenues of 94 billion. This is based on 684 of 2043 movies classified under the Action genre category from the dataset. \n",
    "\n",
    ">The top 3 lowest revenue producing genres were westerns, documentaries, and TV movies with TV movies coming in very last with revenues of 42 million. "
   ]
  },
  {
   "cell_type": "markdown",
   "metadata": {},
   "source": [
    "### Research Question 9 - What were the most successful movies from 1960 to 2015?"
   ]
  },
  {
   "cell_type": "code",
   "execution_count": 55,
   "metadata": {},
   "outputs": [],
   "source": [
    "# Revenues per movie titles\n",
    "movie_revenue = df.groupby(['original_title']).sum().revenue"
   ]
  },
  {
   "cell_type": "code",
   "execution_count": 56,
   "metadata": {},
   "outputs": [
    {
     "data": {
      "text/plain": [
       "original_title\n",
       "Avatar                          2781505847\n",
       "Star Wars: The Force Awakens    2068178225\n",
       "Titanic                         1845034188\n",
       "The Avengers                    1568080742\n",
       "Jurassic World                  1513528810\n",
       "Name: revenue, dtype: int64"
      ]
     },
     "execution_count": 56,
     "metadata": {},
     "output_type": "execute_result"
    }
   ],
   "source": [
    "# Revenues per movie titles\n",
    "movie_revenue = df.groupby(['original_title']).sum().revenue\n",
    "\n",
    "# Sort to get movies with the top revenues\n",
    "top_movies = movie_revenue.sort_values(ascending=False)\n",
    "top_movies.head()"
   ]
  },
  {
   "cell_type": "code",
   "execution_count": 57,
   "metadata": {},
   "outputs": [
    {
     "data": {
      "text/html": [
       "<div>\n",
       "<style>\n",
       "    .dataframe thead tr:only-child th {\n",
       "        text-align: right;\n",
       "    }\n",
       "\n",
       "    .dataframe thead th {\n",
       "        text-align: left;\n",
       "    }\n",
       "\n",
       "    .dataframe tbody tr th {\n",
       "        vertical-align: top;\n",
       "    }\n",
       "</style>\n",
       "<table border=\"1\" class=\"dataframe\">\n",
       "  <thead>\n",
       "    <tr style=\"text-align: right;\">\n",
       "      <th></th>\n",
       "      <th>id</th>\n",
       "      <th>popularity</th>\n",
       "      <th>budget</th>\n",
       "      <th>revenue</th>\n",
       "      <th>variance</th>\n",
       "      <th>original_title</th>\n",
       "      <th>cast</th>\n",
       "      <th>director</th>\n",
       "      <th>runtime</th>\n",
       "      <th>genres</th>\n",
       "      <th>release_date</th>\n",
       "      <th>release_year</th>\n",
       "      <th>genres_split</th>\n",
       "    </tr>\n",
       "  </thead>\n",
       "  <tbody>\n",
       "    <tr>\n",
       "      <th>1386</th>\n",
       "      <td>19995</td>\n",
       "      <td>9.432768</td>\n",
       "      <td>237000000</td>\n",
       "      <td>2781505847</td>\n",
       "      <td>2544505847</td>\n",
       "      <td>Avatar</td>\n",
       "      <td>Sam Worthington|Zoe Saldana|Sigourney Weaver|S...</td>\n",
       "      <td>James Cameron</td>\n",
       "      <td>162</td>\n",
       "      <td>Action|Adventure|Fantasy|Science Fiction</td>\n",
       "      <td>2009-12-10</td>\n",
       "      <td>2009</td>\n",
       "      <td>Action</td>\n",
       "    </tr>\n",
       "    <tr>\n",
       "      <th>3</th>\n",
       "      <td>140607</td>\n",
       "      <td>11.173104</td>\n",
       "      <td>200000000</td>\n",
       "      <td>2068178225</td>\n",
       "      <td>1868178225</td>\n",
       "      <td>Star Wars: The Force Awakens</td>\n",
       "      <td>Harrison Ford|Mark Hamill|Carrie Fisher|Adam D...</td>\n",
       "      <td>J.J. Abrams</td>\n",
       "      <td>136</td>\n",
       "      <td>Action|Adventure|Science Fiction|Fantasy</td>\n",
       "      <td>2015-12-15</td>\n",
       "      <td>2015</td>\n",
       "      <td>Action</td>\n",
       "    </tr>\n",
       "    <tr>\n",
       "      <th>5231</th>\n",
       "      <td>597</td>\n",
       "      <td>4.355219</td>\n",
       "      <td>200000000</td>\n",
       "      <td>1845034188</td>\n",
       "      <td>1645034188</td>\n",
       "      <td>Titanic</td>\n",
       "      <td>Kate Winslet|Leonardo DiCaprio|Frances Fisher|...</td>\n",
       "      <td>James Cameron</td>\n",
       "      <td>194</td>\n",
       "      <td>Drama|Romance|Thriller</td>\n",
       "      <td>1997-11-18</td>\n",
       "      <td>1997</td>\n",
       "      <td>Drama</td>\n",
       "    </tr>\n",
       "    <tr>\n",
       "      <th>4361</th>\n",
       "      <td>24428</td>\n",
       "      <td>7.637767</td>\n",
       "      <td>220000000</td>\n",
       "      <td>1519557910</td>\n",
       "      <td>1299557910</td>\n",
       "      <td>The Avengers</td>\n",
       "      <td>Robert Downey Jr.|Chris Evans|Mark Ruffalo|Chr...</td>\n",
       "      <td>Joss Whedon</td>\n",
       "      <td>143</td>\n",
       "      <td>Science Fiction|Action|Adventure</td>\n",
       "      <td>2012-04-25</td>\n",
       "      <td>2012</td>\n",
       "      <td>Science Fiction</td>\n",
       "    </tr>\n",
       "    <tr>\n",
       "      <th>0</th>\n",
       "      <td>135397</td>\n",
       "      <td>32.985763</td>\n",
       "      <td>150000000</td>\n",
       "      <td>1513528810</td>\n",
       "      <td>1363528810</td>\n",
       "      <td>Jurassic World</td>\n",
       "      <td>Chris Pratt|Bryce Dallas Howard|Irrfan Khan|Vi...</td>\n",
       "      <td>Colin Trevorrow</td>\n",
       "      <td>124</td>\n",
       "      <td>Action|Adventure|Science Fiction|Thriller</td>\n",
       "      <td>2015-06-09</td>\n",
       "      <td>2015</td>\n",
       "      <td>Action</td>\n",
       "    </tr>\n",
       "  </tbody>\n",
       "</table>\n",
       "</div>"
      ],
      "text/plain": [
       "          id  popularity     budget     revenue    variance  \\\n",
       "1386   19995    9.432768  237000000  2781505847  2544505847   \n",
       "3     140607   11.173104  200000000  2068178225  1868178225   \n",
       "5231     597    4.355219  200000000  1845034188  1645034188   \n",
       "4361   24428    7.637767  220000000  1519557910  1299557910   \n",
       "0     135397   32.985763  150000000  1513528810  1363528810   \n",
       "\n",
       "                    original_title  \\\n",
       "1386                        Avatar   \n",
       "3     Star Wars: The Force Awakens   \n",
       "5231                       Titanic   \n",
       "4361                  The Avengers   \n",
       "0                   Jurassic World   \n",
       "\n",
       "                                                   cast         director  \\\n",
       "1386  Sam Worthington|Zoe Saldana|Sigourney Weaver|S...    James Cameron   \n",
       "3     Harrison Ford|Mark Hamill|Carrie Fisher|Adam D...      J.J. Abrams   \n",
       "5231  Kate Winslet|Leonardo DiCaprio|Frances Fisher|...    James Cameron   \n",
       "4361  Robert Downey Jr.|Chris Evans|Mark Ruffalo|Chr...      Joss Whedon   \n",
       "0     Chris Pratt|Bryce Dallas Howard|Irrfan Khan|Vi...  Colin Trevorrow   \n",
       "\n",
       "     runtime                                     genres release_date  \\\n",
       "1386     162   Action|Adventure|Fantasy|Science Fiction   2009-12-10   \n",
       "3        136   Action|Adventure|Science Fiction|Fantasy   2015-12-15   \n",
       "5231     194                     Drama|Romance|Thriller   1997-11-18   \n",
       "4361     143           Science Fiction|Action|Adventure   2012-04-25   \n",
       "0        124  Action|Adventure|Science Fiction|Thriller   2015-06-09   \n",
       "\n",
       "      release_year     genres_split  \n",
       "1386          2009           Action  \n",
       "3             2015           Action  \n",
       "5231          1997            Drama  \n",
       "4361          2012  Science Fiction  \n",
       "0             2015           Action  "
      ]
     },
     "execution_count": 57,
     "metadata": {},
     "output_type": "execute_result"
    }
   ],
   "source": [
    "# Show details on the top 5 movies\n",
    "get_top_records('revenue')"
   ]
  },
  {
   "cell_type": "markdown",
   "metadata": {},
   "source": [
    ">Based on the above analysis, the top five most successful movies were Avatar, Star Wars, Titanic, The Avengers, and Jurassic World based on total revenues. All five were listed in either Action, Drama, or Science Fiction based on the the first string in the genre column considered as the primary genre for the film. Based on commonality traits, all of the successful movies had an all star cast and were produced by some of the most well known directors of our time, which included directors, such as James Cameron, J.J. Abrams, and Joss Whedon just to name a few."
   ]
  },
  {
   "cell_type": "markdown",
   "metadata": {},
   "source": [
    "### Research Question 10 - Which directors produced the most movies from year to year?\n",
    "\n",
    ">Since the director column also contains multiple values, we need to split the multiple values into strings and create a new variable to store them in for our analysis of director data."
   ]
  },
  {
   "cell_type": "code",
   "execution_count": 58,
   "metadata": {},
   "outputs": [
    {
     "data": {
      "text/plain": [
       "Steven Spielberg     28\n",
       "Clint Eastwood       24\n",
       "Ridley Scott         21\n",
       "Woody Allen          18\n",
       "Steven Soderbergh    17\n",
       "dtype: int64"
      ]
     },
     "execution_count": 58,
     "metadata": {},
     "output_type": "execute_result"
    }
   ],
   "source": [
    "# Create a new variable to store our returned director values and call on the split_data function\n",
    "director_count = split_data('director')\n",
    "\n",
    "# Display the top 5 directors with the highest movie counts\n",
    "director_count.head()"
   ]
  },
  {
   "cell_type": "code",
   "execution_count": 59,
   "metadata": {},
   "outputs": [
    {
     "data": {
      "text/plain": [
       "count    1781.000000\n",
       "mean        2.335205\n",
       "std         2.483528\n",
       "min         1.000000\n",
       "25%         1.000000\n",
       "50%         1.000000\n",
       "75%         3.000000\n",
       "max        28.000000\n",
       "dtype: float64"
      ]
     },
     "execution_count": 59,
     "metadata": {},
     "output_type": "execute_result"
    }
   ],
   "source": [
    "# Use describe to determine total number of movies produced by directors in total by looking at the count value\n",
    "director_count.describe()"
   ]
  },
  {
   "cell_type": "code",
   "execution_count": 60,
   "metadata": {},
   "outputs": [
    {
     "data": {
      "image/png": "[encoded data removed]",
      "text/plain": [
       "<matplotlib.figure.Figure at 0x7fc252f37a20>"
      ]
     },
     "metadata": {},
     "output_type": "display_data"
    }
   ],
   "source": [
    "# Plotting the top 5 highest movie producing director\n",
    "director_count[:5].plot(kind='barh',rot=0)\n",
    "\n",
    "plt.title('5 Highest Movie Producing Director', fontsize = '13', fontweight = 'bold')\n",
    "plt.xlabel('Number of Movies Produced', fontsize = '12', fontweight = 'bold')\n",
    "plt.ylabel('Director', fontsize = '12', fontweight = 'bold')\n",
    "plt.show();"
   ]
  },
  {
   "cell_type": "markdown",
   "metadata": {},
   "source": [
    ">Steven Spielberg tops the list of directors producing the most number of movies. From 1960 to 2015, he produced 28 movies out of 1752. Client Eastwood came in at a close second with 24 movies underneath his belt. "
   ]
  },
  {
   "cell_type": "markdown",
   "metadata": {},
   "source": [
    "### Research Question 11 - What directors generated the highest revenues?"
   ]
  },
  {
   "cell_type": "code",
   "execution_count": 61,
   "metadata": {},
   "outputs": [],
   "source": [
    "# Take each director row and split the multiple values into strings and keep the first value.\n",
    "df['director_split'] = df.director.str.split('|').str[0]"
   ]
  },
  {
   "cell_type": "code",
   "execution_count": 62,
   "metadata": {},
   "outputs": [
    {
     "data": {
      "text/plain": [
       "director_split\n",
       "Steven Spielberg     9018563772\n",
       "Peter Jackson        6523244659\n",
       "James Cameron        5841894863\n",
       "Michael Bay          4917208171\n",
       "Christopher Nolan    4167548502\n",
       "Name: revenue, dtype: int64"
      ]
     },
     "execution_count": 62,
     "metadata": {},
     "output_type": "execute_result"
    }
   ],
   "source": [
    "# Determine revenues generated by director\n",
    "dir_rev = df.groupby(['director_split']).sum().revenue\n",
    "\n",
    "# Sorting to determine highest revenues per director\n",
    "top_dir_rev = dir_rev.sort_values(ascending=False)\n",
    "\n",
    "# Top 5 directors with the highest revenues\n",
    "top_dir_rev[:5]"
   ]
  },
  {
   "cell_type": "code",
   "execution_count": 63,
   "metadata": {},
   "outputs": [
    {
     "data": {
      "image/png": "[encoded data removed]",
      "text/plain": [
       "<matplotlib.figure.Figure at 0x7fc252f1b6a0>"
      ]
     },
     "metadata": {},
     "output_type": "display_data"
    }
   ],
   "source": [
    "# Plotting the top 5 directors with the highest revenue\n",
    "top_dir_rev[:5].plot(kind='barh',rot=0)\n",
    "\n",
    "plt.title('Top 5 Directors with the Highest Revenues', fontsize = '13', fontweight = 'bold')\n",
    "plt.xlabel('Revenues', fontsize = '12', fontweight = 'bold')\n",
    "plt.ylabel('Director', fontsize = '12', fontweight = 'bold')\n",
    "plt.show();"
   ]
  },
  {
   "cell_type": "markdown",
   "metadata": {},
   "source": [
    ">Based on the results above, Steven Spielberg not only tops the list as producing the most movies but he also tops the list of directors generating the most revenues, 9 billion from 1960 to 2015. \n",
    "\n",
    ">Let's generate a list of movies he has produced over the years to see if we recognize any."
   ]
  },
  {
   "cell_type": "code",
   "execution_count": 64,
   "metadata": {},
   "outputs": [
    {
     "data": {
      "text/html": [
       "<div>\n",
       "<style>\n",
       "    .dataframe thead tr:only-child th {\n",
       "        text-align: right;\n",
       "    }\n",
       "\n",
       "    .dataframe thead th {\n",
       "        text-align: left;\n",
       "    }\n",
       "\n",
       "    .dataframe tbody tr th {\n",
       "        vertical-align: top;\n",
       "    }\n",
       "</style>\n",
       "<table border=\"1\" class=\"dataframe\">\n",
       "  <thead>\n",
       "    <tr style=\"text-align: right;\">\n",
       "      <th></th>\n",
       "      <th>id</th>\n",
       "      <th>popularity</th>\n",
       "      <th>budget</th>\n",
       "      <th>revenue</th>\n",
       "      <th>variance</th>\n",
       "      <th>original_title</th>\n",
       "      <th>cast</th>\n",
       "      <th>director</th>\n",
       "      <th>runtime</th>\n",
       "      <th>genres</th>\n",
       "      <th>release_date</th>\n",
       "      <th>release_year</th>\n",
       "      <th>genres_split</th>\n",
       "      <th>director_split</th>\n",
       "    </tr>\n",
       "  </thead>\n",
       "  <tbody>\n",
       "    <tr>\n",
       "      <th>33</th>\n",
       "      <td>296098</td>\n",
       "      <td>3.648210</td>\n",
       "      <td>40000000</td>\n",
       "      <td>162610473</td>\n",
       "      <td>122610473</td>\n",
       "      <td>Bridge of Spies</td>\n",
       "      <td>Tom Hanks|Mark Rylance|Amy Ryan|Alan Alda|Seba...</td>\n",
       "      <td>Steven Spielberg</td>\n",
       "      <td>141</td>\n",
       "      <td>Thriller|Drama</td>\n",
       "      <td>2015-10-15</td>\n",
       "      <td>2015</td>\n",
       "      <td>Thriller</td>\n",
       "      <td>Steven Spielberg</td>\n",
       "    </tr>\n",
       "    <tr>\n",
       "      <th>1334</th>\n",
       "      <td>840</td>\n",
       "      <td>1.104816</td>\n",
       "      <td>20000000</td>\n",
       "      <td>303788635</td>\n",
       "      <td>283788635</td>\n",
       "      <td>Close Encounters of the Third Kind</td>\n",
       "      <td>Richard Dreyfuss|FranÃ§ois Truffaut|Teri Garr|...</td>\n",
       "      <td>Steven Spielberg</td>\n",
       "      <td>135</td>\n",
       "      <td>Science Fiction|Drama</td>\n",
       "      <td>1977-11-16</td>\n",
       "      <td>1977</td>\n",
       "      <td>Science Fiction</td>\n",
       "      <td>Steven Spielberg</td>\n",
       "    </tr>\n",
       "    <tr>\n",
       "      <th>2638</th>\n",
       "      <td>644</td>\n",
       "      <td>2.971372</td>\n",
       "      <td>100000000</td>\n",
       "      <td>235926552</td>\n",
       "      <td>135926552</td>\n",
       "      <td>A.I. Artificial Intelligence</td>\n",
       "      <td>Haley Joel Osment|Frances O'Connor|Sam Robards...</td>\n",
       "      <td>Steven Spielberg</td>\n",
       "      <td>146</td>\n",
       "      <td>Drama|Science Fiction|Adventure</td>\n",
       "      <td>2001-06-29</td>\n",
       "      <td>2001</td>\n",
       "      <td>Drama</td>\n",
       "      <td>Steven Spielberg</td>\n",
       "    </tr>\n",
       "    <tr>\n",
       "      <th>2879</th>\n",
       "      <td>217</td>\n",
       "      <td>3.161670</td>\n",
       "      <td>185000000</td>\n",
       "      <td>786636033</td>\n",
       "      <td>601636033</td>\n",
       "      <td>Indiana Jones and the Kingdom of the Crystal S...</td>\n",
       "      <td>Harrison Ford|Cate Blanchett|Shia LaBeouf|Ray ...</td>\n",
       "      <td>Steven Spielberg</td>\n",
       "      <td>122</td>\n",
       "      <td>Adventure|Action</td>\n",
       "      <td>2008-05-21</td>\n",
       "      <td>2008</td>\n",
       "      <td>Adventure</td>\n",
       "      <td>Steven Spielberg</td>\n",
       "    </tr>\n",
       "    <tr>\n",
       "      <th>3397</th>\n",
       "      <td>17578</td>\n",
       "      <td>2.234300</td>\n",
       "      <td>130000000</td>\n",
       "      <td>371940071</td>\n",
       "      <td>241940071</td>\n",
       "      <td>The Adventures of Tintin</td>\n",
       "      <td>Jamie Bell|Andy Serkis|Daniel Craig|Nick Frost...</td>\n",
       "      <td>Steven Spielberg</td>\n",
       "      <td>107</td>\n",
       "      <td>Adventure|Animation|Action|Family|Mystery</td>\n",
       "      <td>2011-10-25</td>\n",
       "      <td>2011</td>\n",
       "      <td>Adventure</td>\n",
       "      <td>Steven Spielberg</td>\n",
       "    </tr>\n",
       "    <tr>\n",
       "      <th>3414</th>\n",
       "      <td>57212</td>\n",
       "      <td>1.592819</td>\n",
       "      <td>66000000</td>\n",
       "      <td>177584879</td>\n",
       "      <td>111584879</td>\n",
       "      <td>War Horse</td>\n",
       "      <td>Tom Hiddleston|Benedict Cumberbatch|Toby Kebbe...</td>\n",
       "      <td>Steven Spielberg</td>\n",
       "      <td>146</td>\n",
       "      <td>Drama|War</td>\n",
       "      <td>2011-12-25</td>\n",
       "      <td>2011</td>\n",
       "      <td>Drama</td>\n",
       "      <td>Steven Spielberg</td>\n",
       "    </tr>\n",
       "    <tr>\n",
       "      <th>3918</th>\n",
       "      <td>640</td>\n",
       "      <td>2.973115</td>\n",
       "      <td>52000000</td>\n",
       "      <td>352114312</td>\n",
       "      <td>300114312</td>\n",
       "      <td>Catch Me If You Can</td>\n",
       "      <td>Leonardo DiCaprio|Tom Hanks|Christopher Walken...</td>\n",
       "      <td>Steven Spielberg</td>\n",
       "      <td>141</td>\n",
       "      <td>Drama|Crime</td>\n",
       "      <td>2002-12-25</td>\n",
       "      <td>2002</td>\n",
       "      <td>Drama</td>\n",
       "      <td>Steven Spielberg</td>\n",
       "    </tr>\n",
       "    <tr>\n",
       "      <th>3921</th>\n",
       "      <td>180</td>\n",
       "      <td>2.103595</td>\n",
       "      <td>102000000</td>\n",
       "      <td>358372926</td>\n",
       "      <td>256372926</td>\n",
       "      <td>Minority Report</td>\n",
       "      <td>Tom Cruise|Colin Farrell|Samantha Morton|Max v...</td>\n",
       "      <td>Steven Spielberg</td>\n",
       "      <td>145</td>\n",
       "      <td>Action|Thriller|Science Fiction|Mystery</td>\n",
       "      <td>2002-06-20</td>\n",
       "      <td>2002</td>\n",
       "      <td>Action</td>\n",
       "      <td>Steven Spielberg</td>\n",
       "    </tr>\n",
       "    <tr>\n",
       "      <th>4425</th>\n",
       "      <td>72976</td>\n",
       "      <td>1.312488</td>\n",
       "      <td>65000000</td>\n",
       "      <td>275293450</td>\n",
       "      <td>210293450</td>\n",
       "      <td>Lincoln</td>\n",
       "      <td>Daniel Day-Lewis|Sally Field|David Strathairn|...</td>\n",
       "      <td>Steven Spielberg</td>\n",
       "      <td>149</td>\n",
       "      <td>Drama|War</td>\n",
       "      <td>2012-11-09</td>\n",
       "      <td>2012</td>\n",
       "      <td>Drama</td>\n",
       "      <td>Steven Spielberg</td>\n",
       "    </tr>\n",
       "    <tr>\n",
       "      <th>5387</th>\n",
       "      <td>11831</td>\n",
       "      <td>0.221360</td>\n",
       "      <td>36000000</td>\n",
       "      <td>74000000</td>\n",
       "      <td>38000000</td>\n",
       "      <td>Amistad</td>\n",
       "      <td>Morgan Freeman|Nigel Hawthorne|Anthony Hopkins...</td>\n",
       "      <td>Steven Spielberg</td>\n",
       "      <td>155</td>\n",
       "      <td>Drama|History|Mystery</td>\n",
       "      <td>1997-12-03</td>\n",
       "      <td>1997</td>\n",
       "      <td>Drama</td>\n",
       "      <td>Steven Spielberg</td>\n",
       "    </tr>\n",
       "  </tbody>\n",
       "</table>\n",
       "</div>"
      ],
      "text/plain": [
       "          id  popularity     budget    revenue   variance  \\\n",
       "33    296098    3.648210   40000000  162610473  122610473   \n",
       "1334     840    1.104816   20000000  303788635  283788635   \n",
       "2638     644    2.971372  100000000  235926552  135926552   \n",
       "2879     217    3.161670  185000000  786636033  601636033   \n",
       "3397   17578    2.234300  130000000  371940071  241940071   \n",
       "3414   57212    1.592819   66000000  177584879  111584879   \n",
       "3918     640    2.973115   52000000  352114312  300114312   \n",
       "3921     180    2.103595  102000000  358372926  256372926   \n",
       "4425   72976    1.312488   65000000  275293450  210293450   \n",
       "5387   11831    0.221360   36000000   74000000   38000000   \n",
       "\n",
       "                                         original_title  \\\n",
       "33                                      Bridge of Spies   \n",
       "1334                 Close Encounters of the Third Kind   \n",
       "2638                       A.I. Artificial Intelligence   \n",
       "2879  Indiana Jones and the Kingdom of the Crystal S...   \n",
       "3397                           The Adventures of Tintin   \n",
       "3414                                          War Horse   \n",
       "3918                                Catch Me If You Can   \n",
       "3921                                    Minority Report   \n",
       "4425                                            Lincoln   \n",
       "5387                                            Amistad   \n",
       "\n",
       "                                                   cast          director  \\\n",
       "33    Tom Hanks|Mark Rylance|Amy Ryan|Alan Alda|Seba...  Steven Spielberg   \n",
       "1334  Richard Dreyfuss|FranÃ§ois Truffaut|Teri Garr|...  Steven Spielberg   \n",
       "2638  Haley Joel Osment|Frances O'Connor|Sam Robards...  Steven Spielberg   \n",
       "2879  Harrison Ford|Cate Blanchett|Shia LaBeouf|Ray ...  Steven Spielberg   \n",
       "3397  Jamie Bell|Andy Serkis|Daniel Craig|Nick Frost...  Steven Spielberg   \n",
       "3414  Tom Hiddleston|Benedict Cumberbatch|Toby Kebbe...  Steven Spielberg   \n",
       "3918  Leonardo DiCaprio|Tom Hanks|Christopher Walken...  Steven Spielberg   \n",
       "3921  Tom Cruise|Colin Farrell|Samantha Morton|Max v...  Steven Spielberg   \n",
       "4425  Daniel Day-Lewis|Sally Field|David Strathairn|...  Steven Spielberg   \n",
       "5387  Morgan Freeman|Nigel Hawthorne|Anthony Hopkins...  Steven Spielberg   \n",
       "\n",
       "     runtime                                     genres release_date  \\\n",
       "33       141                             Thriller|Drama   2015-10-15   \n",
       "1334     135                      Science Fiction|Drama   1977-11-16   \n",
       "2638     146            Drama|Science Fiction|Adventure   2001-06-29   \n",
       "2879     122                           Adventure|Action   2008-05-21   \n",
       "3397     107  Adventure|Animation|Action|Family|Mystery   2011-10-25   \n",
       "3414     146                                  Drama|War   2011-12-25   \n",
       "3918     141                                Drama|Crime   2002-12-25   \n",
       "3921     145    Action|Thriller|Science Fiction|Mystery   2002-06-20   \n",
       "4425     149                                  Drama|War   2012-11-09   \n",
       "5387     155                      Drama|History|Mystery   1997-12-03   \n",
       "\n",
       "      release_year     genres_split    director_split  \n",
       "33            2015         Thriller  Steven Spielberg  \n",
       "1334          1977  Science Fiction  Steven Spielberg  \n",
       "2638          2001            Drama  Steven Spielberg  \n",
       "2879          2008        Adventure  Steven Spielberg  \n",
       "3397          2011        Adventure  Steven Spielberg  \n",
       "3414          2011            Drama  Steven Spielberg  \n",
       "3918          2002            Drama  Steven Spielberg  \n",
       "3921          2002           Action  Steven Spielberg  \n",
       "4425          2012            Drama  Steven Spielberg  \n",
       "5387          1997            Drama  Steven Spielberg  "
      ]
     },
     "execution_count": 64,
     "metadata": {},
     "output_type": "execute_result"
    }
   ],
   "source": [
    "# Let's get a breakdown of the movies produced by Steven Spielberg\n",
    "movies_spielberg = df[df.director_split == 'Steven Spielberg']\n",
    "movies_spielberg.head(10)"
   ]
  },
  {
   "cell_type": "markdown",
   "metadata": {},
   "source": [
    "Wow, Steven Spielberg's movie list is impressive. He has produced movies in most of the top genres and has been very successful in each category. He definitly has the magic touch when it comes to creating movies that turn out to be blockbuster hits. Each movie has generated significant revenues. "
   ]
  },
  {
   "cell_type": "markdown",
   "metadata": {},
   "source": [
    "### Research Question 12 - Which movies had the highest popularity rankings?\n",
    "\n",
    ">Let's analyze movie popularity rankings and see which movies had the highest rankings.\n",
    "\n",
    ">Note: if you'd like to get a better understanding of what metrics go into the determining popularity ratings, click on link for more details [The Movie Database API](https://developers.themoviedb.org/3/getting-started/popularity) "
   ]
  },
  {
   "cell_type": "code",
   "execution_count": 65,
   "metadata": {},
   "outputs": [
    {
     "data": {
      "text/plain": [
       "original_title\n",
       "Jurassic World             32.985763\n",
       "Mad Max: Fury Road         28.419936\n",
       "Interstellar               24.949134\n",
       "Guardians of the Galaxy    14.311205\n",
       "Insurgent                  13.112507\n",
       "Name: popularity, dtype: float64"
      ]
     },
     "execution_count": 65,
     "metadata": {},
     "output_type": "execute_result"
    }
   ],
   "source": [
    "# Calculating movies with highest popularity rankings by calling on the get_top_yearly_records function\n",
    "get_top_yearly_records('original_title', 'popularity')"
   ]
  },
  {
   "cell_type": "markdown",
   "metadata": {},
   "source": [
    ">Based on the popularity ratings above, just because a movie ranks high in the popularity rankings doesn't always guarantee top revenues. For example, Jurassic World ranked 1st for popularity but came in 5th for movies with highest revenues. "
   ]
  },
  {
   "cell_type": "markdown",
   "metadata": {},
   "source": [
    "### Research Question 13 - Which actors appeared in the most movies?"
   ]
  },
  {
   "cell_type": "code",
   "execution_count": 66,
   "metadata": {},
   "outputs": [
    {
     "data": {
      "text/plain": [
       "Robert De Niro       52\n",
       "Bruce Willis         46\n",
       "Samuel L. Jackson    44\n",
       "Nicolas Cage         43\n",
       "Matt Damon           36\n",
       "dtype: int64"
      ]
     },
     "execution_count": 66,
     "metadata": {},
     "output_type": "execute_result"
    }
   ],
   "source": [
    "# Create a new variable to store our returned cast values and call on the split_data function\n",
    "cast_count = split_data('cast').head()\n",
    "\n",
    "# Display the top 5 cast with the highest movie counts\n",
    "cast_count[:5]"
   ]
  },
  {
   "cell_type": "code",
   "execution_count": 67,
   "metadata": {},
   "outputs": [
    {
     "data": {
      "image/png": "[encoded data removed]",
      "text/plain": [
       "<matplotlib.figure.Figure at 0x7fc252caaa58>"
      ]
     },
     "metadata": {},
     "output_type": "display_data"
    }
   ],
   "source": [
    "# Plot data\n",
    "cast_percentage = cast_count\n",
    "cast_name = ['Robert De Niro', 'Bruce Willis', 'Samuel L. Jackson', 'Nicolas Cage', 'Matt Damon']\n",
    "\n",
    "plt.subplots(figsize=(7, 8))\n",
    "\n",
    "# Colors\n",
    "colors = [\"#1f77b4\", \"#ff7f0e\", \"#2ca02c\", \"#d62728\", \"#9467bd\"]\n",
    "\n",
    "# Explode 1st slice\n",
    "explode = (0.1, 0, 0, 0, 0)  \n",
    "\n",
    "# Plot\n",
    "plt.pie(cast_percentage, explode=explode, labels=cast_name, colors=colors,        \n",
    "autopct='%1.1f%%', shadow=True, startangle=140)\n",
    "plt.title(\"Five Most Casted Actors\", bbox={'facecolor':'0.8', 'pad':5})\n",
    "plt.axis(\"equal\")\n",
    "plt.show();"
   ]
  },
  {
   "cell_type": "markdown",
   "metadata": {},
   "source": [
    ">Based on the cast analysis above, Robert De Niro, Bruce Willis, Samuel L. Jackson, Nicolas Cage, and Matt Damon have appeared in the most movies from 1960 to 2015. Similar to popularity rankings, number of appearances in movies doesn't always guarantee the top revenues for the movies. For example, Rober De Niro appeared in 52 movies, but none of them were included in the list of top five revenue producing movies."
   ]
  },
  {
   "cell_type": "markdown",
   "metadata": {},
   "source": [
    "<a id='conclusions'></a>\n",
    "## Conclusions\n",
    "\n",
    ">My analysis of the movie data set shows there has been an upward revenue trend over the years from the period 1960 to 2015. But to really understand the revenue growth from year to year, you really need to look under the hood and see which parts could be contributing to this upward growth. For example, was there a correlation between the number of movies produced, budgets, genres types, directors, or cast members. \n",
    "\n",
    ">First, I looked at the total number of movies produced each year and noted that movie production increased significantly from five movies released in 1960 to 160 in 2015. Could this increase be driving up revenues since more movies equals more revenues? Next, I looked at the percentage growth of movie releases since 1960 and noted that the growth rate had sky rocketed all the way to 3,200 % in 2015. What is causing this huge growth rate? Why are movie releases increasing over the years? I did a little digging and my research points to technology advances in film production, allowing the filming industry to produce more movies at an increased rate. In addition, advances in equipment, cameras, visual effects, and audio  visual are enabling the production of higher resolution and better quality films. The introduction of digital has significantly reduced movie production costs. Shooting in digital allows producers to do more in less time at a much lower cost. In my opinion, all of these factors contribute to the ability to produce more movies each year, resulting in the potential for increased revenues and movie production each year due to the reduction is pre and post production costs.\n",
    "\n",
    ">Second, I analyzed the relationship between revenues and budgets and noted there was a positive correlation for both variables. As budgets increased so did revenues but I noticed the gap between the two variables were significantly increasing from year to year. Was this due to the technology advances I mentioned above or could it be additional factors, such as genre, director, popularity, or cast members.\n",
    "\n",
    ">Next, I reviewed the variances between revenues and budgets and concluded that 2015 had the largest variance (19 billion) compared to the other years. But if you look at variances by movie detail, you can see that the top five movies with the largest variances (Avatar, Star Wars, Titanic, Jurassic World, and Furious 7) all came from different release years. The top five movies with the largest variances were produced by some of the most well known and respected directors in the film industry. All having a history of generating blockbuster movies. I also noted that the movie cast included a large ensemble of famous actors. In my opinion, this could definitely influence revenue generation due their star power and huge fan base following. \n",
    "\n",
    ">I also analyzed genre categories. From the list of 19 different genre types, I narrowed down my analysis to the top 10 with the highest movie counts. My results, revealed Drama, Comedy, and Action counts as the most popular genres. Why do directors gravitate towards those particular genres? Is is correlated with their potentail revenue streams? Do they generate the highest revenue? Looking at total revenues per genre, the top 5 revenue producing genres were Action, Adventure, Comedy, and Drama with Action as the top revenue maker, totaling revenues of 94 billion. Based on my research, certain genres do seem to generate more revenues than others. \n",
    "\n",
    ">Next, I looked at the top five most successful movies (Avatar, Star Wars, Titanic, The Avengers, and Jurassic World) based on total revenues. All five were listed in either Action, Drama, or Science Fiction. Based on commonality traits, all of the successful movies had an all star ensemble and were produced by some of the most well known directors of our time, which included directors, such as James Cameron, J.J. Abrams, and Joss Whedon just to name a few. \n",
    "\n",
    ">Additionally, I reviewed popularity ratings and noted that just because a movie ranks high in the popularity ratings, it doesn't always guarantee top revenues. For example, Jurassic World ranked 1st for popularity but ranked 5th for highest revenues. \n",
    "\n",
    ">Lastly, I analyzed cast data. My results showed Robert De Niro, Bruce Willis, Samuel L. Jackson, Nicolas Cage, and Matt Damon appearing in the most movies from 1960 to 2015. Similar to popularity rankings, the number of appearances in movies doesn't always guarantee top revenues for movies. For example, Rober De Niro appeared in 52 movies, but none of them were included in the top five listing of revenue producing movies.\n",
    "\n",
    ">Overall, this was a really fun data set to explore and analyze. There were so many ways to explore the data set. The possibilities are limitless.\n",
    "\n",
    ">***Limitations***\n",
    "> \n",
    "- Data quality issues related to missing values. Reviewing for zero values, the revenue and budget columns contained a significant amount of zeros, which accounted for over half of the rows in the dataset. \n",
    "- Because the genre column contained multiple variables it skewed the actual genre analysis. To account for this, I used the first variable as the primary genre for each movie. If I included all of the genre variables assigned to a movie, in my opinion, I felt that it would overshadow the primary genre and distort the ending results. \n",
    "- Even though there are metrics used to determine the popularity rating, there is no way to determine the consistency of the metrics applied to each movie. Because of this, I didn't place too much weight on the popularity ratings but still included in my analysis.\n",
    "\n",
    "## Submitting your Project \n",
    "\n",
    "> Before you submit your project, you need to create a .html or .pdf version of this notebook in the workspace here. To do that, run the code cell below. If it worked correctly, you should get a return code of 0, and you should see the generated .html file in the workspace directory (click on the orange Jupyter icon in the upper left).\n",
    "\n",
    "> Alternatively, you can download this report as .html via the **File** > **Download as** submenu, and then manually upload it into the workspace directory by clicking on the orange Jupyter icon in the upper left, then using the Upload button.\n",
    "\n",
    "> Once you've done this, you can submit your project by clicking on the \"Submit Project\" button in the lower right here. This will create and submit a zip file with this .ipynb doc and the .html or .pdf version you created. Congratulations!"
   ]
  },
  {
   "cell_type": "code",
   "execution_count": 68,
   "metadata": {},
   "outputs": [
    {
     "data": {
      "text/plain": [
       "0"
      ]
     },
     "execution_count": 68,
     "metadata": {},
     "output_type": "execute_result"
    }
   ],
   "source": [
    "from subprocess import call\n",
    "call(['python', '-m', 'nbconvert', 'Investigate_a_Dataset.ipynb'])"
   ]
  },
  {
   "cell_type": "code",
   "execution_count": null,
   "metadata": {},
   "outputs": [],
   "source": []
  }
 ],
 "metadata": {
  "kernelspec": {
   "display_name": "Python 3",
   "language": "python",
   "name": "python3"
  },
  "language_info": {
   "codemirror_mode": {
    "name": "ipython",
    "version": 3
   },
   "file_extension": ".py",
   "mimetype": "text/x-python",
   "name": "python",
   "nbconvert_exporter": "python",
   "pygments_lexer": "ipython3",
   "version": "3.6.3"
  }
 },
 "nbformat": 4,
 "nbformat_minor": 2
}
